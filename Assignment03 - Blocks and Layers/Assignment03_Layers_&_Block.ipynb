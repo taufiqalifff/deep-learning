{
  "nbformat": 4,
  "nbformat_minor": 0,
  "metadata": {
    "colab": {
      "name": "Assignment03 - Layers & Block.ipynb",
      "provenance": []
    },
    "kernelspec": {
      "name": "python3",
      "display_name": "Python 3"
    },
    "language_info": {
      "name": "python"
    }
  },
  "cells": [
    {
      "cell_type": "markdown",
      "source": [
        "# Chapter 5 - Dive into deep learning\n",
        "\n",
        "this is assignment on class introduction to deep learning \n",
        "\n",
        "source : [Chapter 5 - Deep Learning Computation](https://d2l.ai/chapter_deep-learning-computation/index.html)"
      ],
      "metadata": {
        "id": "4fwMb5SG1Z44"
      }
    },
    {
      "cell_type": "code",
      "source": [
        "import tensorflow as tf"
      ],
      "metadata": {
        "id": "2UwtXquP2NfX"
      },
      "execution_count": 1,
      "outputs": []
    },
    {
      "cell_type": "markdown",
      "source": [
        "# 5.1 Layers and Blocks"
      ],
      "metadata": {
        "id": "9VzJb0XO04jA"
      }
    },
    {
      "cell_type": "markdown",
      "source": [
        "konsep blok jaringan saraf. Sebuah blok dapat menggambarkan satu lapisan, komponen yang terdiri dari beberapa lapisan, atau seluruh model itu sendiri! Salah satu manfaat bekerja dengan abstraksi blok adalah mereka dapat digabungkan menjadi artefak yang lebih besar, seringkali secara rekursif"
      ],
      "metadata": {
        "id": "jGKr-X72nL_e"
      }
    },
    {
      "cell_type": "code",
      "source": [
        "net = tf.keras.models.Sequential([\n",
        "    tf.keras.layers.Dense(256, activation=tf.nn.relu),\n",
        "    tf.keras.layers.Dense(10),\n",
        "])\n",
        "\n",
        "X = tf.random.uniform((2, 20))\n",
        "net(X)"
      ],
      "metadata": {
        "colab": {
          "base_uri": "https://localhost:8080/"
        },
        "id": "1NApqM_vk7N2",
        "outputId": "009c1129-3eb1-4655-fd1f-bb89e87901ce"
      },
      "execution_count": 2,
      "outputs": [
        {
          "output_type": "execute_result",
          "data": {
            "text/plain": [
              "<tf.Tensor: shape=(2, 10), dtype=float32, numpy=\n",
              "array([[ 0.15503676,  0.3031974 , -0.16672961, -0.06071816, -0.35859424,\n",
              "        -0.27953333, -0.12770565, -0.28128797, -0.16478902, -0.15558939],\n",
              "       [ 0.01638052,  0.10633644, -0.0843289 ,  0.0599676 , -0.29568592,\n",
              "        -0.23891413, -0.08447594, -0.1988513 , -0.05017764, -0.01582683]],\n",
              "      dtype=float32)>"
            ]
          },
          "metadata": {},
          "execution_count": 2
        }
      ]
    },
    {
      "cell_type": "markdown",
      "source": [
        "## 5.1.1 Custom Block"
      ],
      "metadata": {
        "id": "k2fT9ox_1A1_"
      }
    },
    {
      "cell_type": "markdown",
      "source": [
        "1. Serap data input sebagai argumen untuk fungsi *forward propagation*\n",
        "2. Hasilkan output dengan membuat fungsi *forward propagation* mengembalikan nilai. Perhatikan bahwa output mungkin memiliki bentuk yang berbeda dari input. Misalnya, lapisan pertama yang terhubung sepenuhnya dalam model kami di atas menyerap input dimensi arbitrer tetapi mengembalikan output dimensi 256.\n",
        "3. Hitung gradien outputnya sehubungan dengan inputnya, yang dapat diakses melalui fungsi *backpropagation*. Biasanya ini terjadi secara otomatis.\n",
        "4. Menyimpan dan menyediakan akses ke parameter yang diperlukan untuk menjalankan komputasi propagasi maju.\n",
        "\n",
        "5. Inisialisasi parameter model sesuai kebutuhan.\n",
        "\n"
      ],
      "metadata": {
        "id": "k14JWl5-40Kx"
      }
    },
    {
      "cell_type": "code",
      "source": [
        "class MLP(tf.keras.Model):\n",
        "    # Declare a layer with model parameters. Here, we declare two fully\n",
        "    # connected layers\n",
        "    def __init__(self):\n",
        "        # Call the constructor of the `MLP` parent class `Model` to perform\n",
        "        # the necessary initialization. In this way, other function arguments\n",
        "        # can also be specified during class instantiation, such as the model\n",
        "        # parameters, `params` (to be described later)\n",
        "        super().__init__()\n",
        "        # Hidden layer\n",
        "        self.hidden = tf.keras.layers.Dense(units=256, activation=tf.nn.relu)\n",
        "        self.out = tf.keras.layers.Dense(units=10)  # Output layer\n",
        "\n",
        "    # Define the forward propagation of the model, that is, how to return the\n",
        "    # required model output based on the input `X`\n",
        "    def call(self, X):\n",
        "        return self.out(self.hidden((X)))"
      ],
      "metadata": {
        "id": "jt6kFVE6k_wg"
      },
      "execution_count": 3,
      "outputs": []
    },
    {
      "cell_type": "code",
      "source": [
        "net = MLP()\n",
        "net(X)"
      ],
      "metadata": {
        "colab": {
          "base_uri": "https://localhost:8080/"
        },
        "id": "MjT_hyhd0TLo",
        "outputId": "eead913c-89fb-47dd-a392-df70313aea41"
      },
      "execution_count": 4,
      "outputs": [
        {
          "output_type": "execute_result",
          "data": {
            "text/plain": [
              "<tf.Tensor: shape=(2, 10), dtype=float32, numpy=\n",
              "array([[ 0.12097374, -0.14194793,  0.11305366, -0.39977127, -0.28660795,\n",
              "        -0.2520434 , -0.00121207, -0.24595582, -0.2936792 , -0.20400342],\n",
              "       [ 0.13113678, -0.13972023,  0.21779458, -0.32140923, -0.03125362,\n",
              "        -0.2588921 , -0.00937137, -0.19849241, -0.09207319, -0.15827566]],\n",
              "      dtype=float32)>"
            ]
          },
          "metadata": {},
          "execution_count": 4
        }
      ]
    },
    {
      "cell_type": "markdown",
      "source": [
        "## 5.1.2 Sequential Block"
      ],
      "metadata": {
        "id": "usE7rbM022Km"
      }
    },
    {
      "cell_type": "code",
      "source": [
        "class MySequential(tf.keras.Model):\n",
        "    def __init__(self, *args):\n",
        "        super().__init__()\n",
        "        self.modules = []\n",
        "        for block in args:\n",
        "            # Here, `block` is an instance of a `tf.keras.layers.Layer`\n",
        "            # subclass\n",
        "            self.modules.append(block)\n",
        "\n",
        "    def call(self, X):\n",
        "        for module in self.modules:\n",
        "            X = module(X)\n",
        "        return X"
      ],
      "metadata": {
        "id": "hIZPqTLK0TkJ"
      },
      "execution_count": 5,
      "outputs": []
    },
    {
      "cell_type": "code",
      "source": [
        "net = MySequential(\n",
        "    tf.keras.layers.Dense(units=256, activation=tf.nn.relu),\n",
        "    tf.keras.layers.Dense(10))\n",
        "net(X)"
      ],
      "metadata": {
        "colab": {
          "base_uri": "https://localhost:8080/"
        },
        "id": "aZspyDGR4HEY",
        "outputId": "6b8f546e-6ea5-4d2b-e0a2-cf75db122a1c"
      },
      "execution_count": 6,
      "outputs": [
        {
          "output_type": "execute_result",
          "data": {
            "text/plain": [
              "<tf.Tensor: shape=(2, 10), dtype=float32, numpy=\n",
              "array([[-0.38855797, -0.25349426,  0.11016544, -0.30879498, -0.34653088,\n",
              "        -0.47085696, -0.19308163,  0.11986673, -0.43464637,  0.25295413],\n",
              "       [-0.47622517, -0.00277524,  0.06996723, -0.2818883 , -0.43247095,\n",
              "        -0.44782716, -0.20436361, -0.09941158, -0.43303567,  0.34176326]],\n",
              "      dtype=float32)>"
            ]
          },
          "metadata": {},
          "execution_count": 6
        }
      ]
    },
    {
      "cell_type": "markdown",
      "source": [
        "## 5.1.3 Executing code in **Forward Propagation** Function "
      ],
      "metadata": {
        "id": "T4GFwsAC7iuo"
      }
    },
    {
      "cell_type": "markdown",
      "source": [
        "Katakanlah misalnya bahwa kita menginginkan lapisan yang menghitung fungsi\n",
        "$f(x, w) = c ⋅ w^⊤ x$, dimana \n",
        "\n",
        "$x$ merupakan input, \n",
        "\n",
        "$w$ adalah parameternya, dan \n",
        "\n",
        "$c$ adalah beberapa konstanta tertentu yang tidak diperbarui selama pengoptimalan\n"
      ],
      "metadata": {
        "id": "VAF1E1578Aiw"
      }
    },
    {
      "cell_type": "code",
      "source": [
        "class FixedHiddenMLP(tf.keras.Model):\n",
        "    def __init__(self):\n",
        "        super().__init__()\n",
        "        self.flatten = tf.keras.layers.Flatten()\n",
        "        # Random weight parameters created with `tf.constant` are not updated\n",
        "        # during training (i.e., constant parameters)\n",
        "        self.rand_weight = tf.constant(tf.random.uniform((20, 20)))\n",
        "        self.dense = tf.keras.layers.Dense(20, activation=tf.nn.relu)\n",
        "\n",
        "    def call(self, inputs):\n",
        "        X = self.flatten(inputs)\n",
        "        # Use the created constant parameters, as well as the `relu` and\n",
        "        # `matmul` functions\n",
        "        X = tf.nn.relu(tf.matmul(X, self.rand_weight) + 1)\n",
        "        # Reuse the fully-connected layer. This is equivalent to sharing\n",
        "        # parameters with two fully-connected layers\n",
        "        X = self.dense(X)\n",
        "        # Control flow\n",
        "        while tf.reduce_sum(tf.math.abs(X)) > 1:\n",
        "            X /= 2\n",
        "        return tf.reduce_sum(X)"
      ],
      "metadata": {
        "id": "RrJ4ujFh4HqU"
      },
      "execution_count": 7,
      "outputs": []
    },
    {
      "cell_type": "code",
      "source": [
        "net = FixedHiddenMLP()\n",
        "net(X)"
      ],
      "metadata": {
        "colab": {
          "base_uri": "https://localhost:8080/"
        },
        "id": "V_msX60N-xbQ",
        "outputId": "7b2c815c-54b1-4899-ca9c-b451b8fd5ff0"
      },
      "execution_count": 8,
      "outputs": [
        {
          "output_type": "execute_result",
          "data": {
            "text/plain": [
              "<tf.Tensor: shape=(), dtype=float32, numpy=0.5712446>"
            ]
          },
          "metadata": {},
          "execution_count": 8
        }
      ]
    },
    {
      "cell_type": "code",
      "source": [
        "class NestMLP(tf.keras.Model):\n",
        "    def __init__(self):\n",
        "        super().__init__()\n",
        "        self.net = tf.keras.Sequential()\n",
        "        self.net.add(tf.keras.layers.Dense(64, activation=tf.nn.relu))\n",
        "        self.net.add(tf.keras.layers.Dense(32, activation=tf.nn.relu))\n",
        "        self.dense = tf.keras.layers.Dense(16, activation=tf.nn.relu)\n",
        "\n",
        "    def call(self, inputs):\n",
        "        return self.dense(self.net(inputs))\n",
        "\n",
        "chimera = tf.keras.Sequential()\n",
        "chimera.add(NestMLP())\n",
        "chimera.add(tf.keras.layers.Dense(20))\n",
        "chimera.add(FixedHiddenMLP())\n",
        "chimera(X)"
      ],
      "metadata": {
        "colab": {
          "base_uri": "https://localhost:8080/"
        },
        "id": "-tvyoT0c--gy",
        "outputId": "03898f57-7bae-428f-d771-49a0edb873b5"
      },
      "execution_count": 9,
      "outputs": [
        {
          "output_type": "execute_result",
          "data": {
            "text/plain": [
              "<tf.Tensor: shape=(), dtype=float32, numpy=0.97772586>"
            ]
          },
          "metadata": {},
          "execution_count": 9
        }
      ]
    },
    {
      "cell_type": "code",
      "source": [
        ""
      ],
      "metadata": {
        "id": "IubebSkj_dR4"
      },
      "execution_count": 9,
      "outputs": []
    },
    {
      "cell_type": "markdown",
      "source": [
        "# 5.2 Parameters Management"
      ],
      "metadata": {
        "id": "EXdzZZpFAPP4"
      }
    },
    {
      "cell_type": "code",
      "source": [
        "net = tf.keras.models.Sequential([\n",
        "    tf.keras.layers.Flatten(),\n",
        "    tf.keras.layers.Dense(4, activation=tf.nn.relu),\n",
        "    tf.keras.layers.Dense(1),\n",
        "])\n",
        "\n",
        "X = tf.random.uniform((2, 4))\n",
        "net(X)"
      ],
      "metadata": {
        "colab": {
          "base_uri": "https://localhost:8080/"
        },
        "id": "UuaLtpLEA46g",
        "outputId": "ea086b5c-803d-41c5-ec53-c5990cab0c58"
      },
      "execution_count": 10,
      "outputs": [
        {
          "output_type": "execute_result",
          "data": {
            "text/plain": [
              "<tf.Tensor: shape=(2, 1), dtype=float32, numpy=\n",
              "array([[0.04582323],\n",
              "       [0.12907463]], dtype=float32)>"
            ]
          },
          "metadata": {},
          "execution_count": 10
        }
      ]
    },
    {
      "cell_type": "markdown",
      "source": [
        "## 5.2.1 Parameters Access"
      ],
      "metadata": {
        "id": "PpPFtDZpA-Le"
      }
    },
    {
      "cell_type": "code",
      "source": [
        "print(net.layers[2].weights)"
      ],
      "metadata": {
        "colab": {
          "base_uri": "https://localhost:8080/"
        },
        "id": "LxjT33PiA5sM",
        "outputId": "4aa8338e-cee5-47ae-f4b3-fb93a0c12907"
      },
      "execution_count": 11,
      "outputs": [
        {
          "output_type": "stream",
          "name": "stdout",
          "text": [
            "[<tf.Variable 'dense_13/kernel:0' shape=(4, 1) dtype=float32, numpy=\n",
            "array([[ 0.58155143],\n",
            "       [-0.9833052 ],\n",
            "       [-0.66982424],\n",
            "       [-0.18462217]], dtype=float32)>, <tf.Variable 'dense_13/bias:0' shape=(1,) dtype=float32, numpy=array([0.], dtype=float32)>]\n"
          ]
        }
      ]
    },
    {
      "cell_type": "code",
      "source": [
        "# Targeted Parameters\n",
        "print(type(net.layers[2].weights[1]))\n",
        "print(net.layers[2].weights[1])\n",
        "print(tf.convert_to_tensor(net.layers[2].weights[1]))"
      ],
      "metadata": {
        "colab": {
          "base_uri": "https://localhost:8080/"
        },
        "id": "xBocxR5mBCvC",
        "outputId": "cbd4cf56-bf9d-40f8-9c77-e64b0d39cb99"
      },
      "execution_count": 12,
      "outputs": [
        {
          "output_type": "stream",
          "name": "stdout",
          "text": [
            "<class 'tensorflow.python.ops.resource_variable_ops.ResourceVariable'>\n",
            "<tf.Variable 'dense_13/bias:0' shape=(1,) dtype=float32, numpy=array([0.], dtype=float32)>\n",
            "tf.Tensor([0.], shape=(1,), dtype=float32)\n"
          ]
        }
      ]
    },
    {
      "cell_type": "code",
      "source": [
        "# All Parameters at Once\n",
        "print(net.layers[1].weights)\n",
        "print(net.get_weights())\n",
        "\n",
        "net.get_weights()[1]"
      ],
      "metadata": {
        "colab": {
          "base_uri": "https://localhost:8080/"
        },
        "id": "Fay6boJmeCTQ",
        "outputId": "23d36d4c-fc93-4121-c96c-14e97c1f6b4f"
      },
      "execution_count": 13,
      "outputs": [
        {
          "output_type": "stream",
          "name": "stdout",
          "text": [
            "[<tf.Variable 'dense_12/kernel:0' shape=(4, 4) dtype=float32, numpy=\n",
            "array([[ 0.767579  , -0.46061572, -0.15807164, -0.840176  ],\n",
            "       [ 0.8020235 , -0.23930198, -0.5298283 , -0.27171278],\n",
            "       [-0.7094276 , -0.2226699 ,  0.03363997, -0.25592893],\n",
            "       [-0.3977085 , -0.5417814 , -0.09114248,  0.29346186]],\n",
            "      dtype=float32)>, <tf.Variable 'dense_12/bias:0' shape=(4,) dtype=float32, numpy=array([0., 0., 0., 0.], dtype=float32)>]\n",
            "[array([[ 0.767579  , -0.46061572, -0.15807164, -0.840176  ],\n",
            "       [ 0.8020235 , -0.23930198, -0.5298283 , -0.27171278],\n",
            "       [-0.7094276 , -0.2226699 ,  0.03363997, -0.25592893],\n",
            "       [-0.3977085 , -0.5417814 , -0.09114248,  0.29346186]],\n",
            "      dtype=float32), array([0., 0., 0., 0.], dtype=float32), array([[ 0.58155143],\n",
            "       [-0.9833052 ],\n",
            "       [-0.66982424],\n",
            "       [-0.18462217]], dtype=float32), array([0.], dtype=float32)]\n"
          ]
        },
        {
          "output_type": "execute_result",
          "data": {
            "text/plain": [
              "array([0., 0., 0., 0.], dtype=float32)"
            ]
          },
          "metadata": {},
          "execution_count": 13
        }
      ]
    },
    {
      "cell_type": "code",
      "source": [
        "# Collecting Parameters from Nested Blocks\n",
        "def block1(name):\n",
        "    return tf.keras.Sequential([\n",
        "        tf.keras.layers.Flatten(),\n",
        "        tf.keras.layers.Dense(4, activation=tf.nn.relu)],\n",
        "        name=name)\n",
        "\n",
        "def block2():\n",
        "    net = tf.keras.Sequential()\n",
        "    for i in range(4):\n",
        "        # Nested here\n",
        "        net.add(block1(name=f'block-{i}'))\n",
        "    return net\n",
        "\n",
        "rgnet = tf.keras.Sequential()\n",
        "rgnet.add(block2())\n",
        "rgnet.add(tf.keras.layers.Dense(1))\n",
        "rgnet(X)\n",
        "\n",
        "print(rgnet.summary()) # Print summary"
      ],
      "metadata": {
        "colab": {
          "base_uri": "https://localhost:8080/"
        },
        "id": "r4vqeaazecrx",
        "outputId": "ad88c089-7e34-43a3-d5e7-40423870e066"
      },
      "execution_count": 14,
      "outputs": [
        {
          "output_type": "stream",
          "name": "stdout",
          "text": [
            "Model: \"sequential_4\"\n",
            "_________________________________________________________________\n",
            " Layer (type)                Output Shape              Param #   \n",
            "=================================================================\n",
            " sequential_5 (Sequential)   (2, 4)                    80        \n",
            "                                                                 \n",
            " dense_18 (Dense)            (2, 1)                    5         \n",
            "                                                                 \n",
            "=================================================================\n",
            "Total params: 85\n",
            "Trainable params: 85\n",
            "Non-trainable params: 0\n",
            "_________________________________________________________________\n",
            "None\n"
          ]
        }
      ]
    },
    {
      "cell_type": "markdown",
      "source": [
        "## 5.2.2 Parameter Initialization"
      ],
      "metadata": {
        "id": "KCJ9rS4DfAHb"
      }
    },
    {
      "cell_type": "markdown",
      "source": [
        "### 5.2.2.1 Built-in Initialization"
      ],
      "metadata": {
        "id": "QR87agbcickr"
      }
    },
    {
      "cell_type": "code",
      "source": [
        "# Built-in Initialization with\n",
        "# Gaussian random variables with standard deviation 0.01\n",
        "\n",
        "net = tf.keras.models.Sequential([\n",
        "    tf.keras.layers.Flatten(),\n",
        "    tf.keras.layers.Dense(\n",
        "        4, activation=tf.nn.relu,\n",
        "        kernel_initializer=tf.random_normal_initializer(mean=0, stddev=0.01),\n",
        "        bias_initializer=tf.zeros_initializer()),\n",
        "    tf.keras.layers.Dense(1)])\n",
        "\n",
        "net(X)\n",
        "net.weights[0], net.weights[1]"
      ],
      "metadata": {
        "colab": {
          "base_uri": "https://localhost:8080/"
        },
        "id": "E_oz0_pketSx",
        "outputId": "5f02d562-d40d-4fe7-b50d-237f50cd2b80"
      },
      "execution_count": 15,
      "outputs": [
        {
          "output_type": "execute_result",
          "data": {
            "text/plain": [
              "(<tf.Variable 'dense_19/kernel:0' shape=(4, 4) dtype=float32, numpy=\n",
              " array([[-0.00455257, -0.00544824, -0.00103761, -0.00367225],\n",
              "        [-0.01094247, -0.0053754 , -0.00108208,  0.01311664],\n",
              "        [ 0.00711042, -0.01007599, -0.00038948,  0.00486159],\n",
              "        [ 0.01340271, -0.00191556, -0.0080068 , -0.00547056]],\n",
              "       dtype=float32)>,\n",
              " <tf.Variable 'dense_19/bias:0' shape=(4,) dtype=float32, numpy=array([0., 0., 0., 0.], dtype=float32)>)"
            ]
          },
          "metadata": {},
          "execution_count": 15
        }
      ]
    },
    {
      "cell_type": "code",
      "source": [
        "# Built-in Initialization with\n",
        "# with constant value (say, 1)\n",
        "\n",
        "net = tf.keras.models.Sequential([\n",
        "    tf.keras.layers.Flatten(),\n",
        "    tf.keras.layers.Dense(\n",
        "        4, activation=tf.nn.relu,\n",
        "        kernel_initializer=tf.keras.initializers.Constant(1),\n",
        "        bias_initializer=tf.zeros_initializer()),\n",
        "    tf.keras.layers.Dense(1),\n",
        "])\n",
        "\n",
        "net(X)\n",
        "net.weights[0], net.weights[1]"
      ],
      "metadata": {
        "colab": {
          "base_uri": "https://localhost:8080/"
        },
        "id": "AzeGYKJrhZKE",
        "outputId": "e80f7ff1-3858-4267-c26c-7d3b52320d0c"
      },
      "execution_count": 16,
      "outputs": [
        {
          "output_type": "execute_result",
          "data": {
            "text/plain": [
              "(<tf.Variable 'dense_21/kernel:0' shape=(4, 4) dtype=float32, numpy=\n",
              " array([[1., 1., 1., 1.],\n",
              "        [1., 1., 1., 1.],\n",
              "        [1., 1., 1., 1.],\n",
              "        [1., 1., 1., 1.]], dtype=float32)>,\n",
              " <tf.Variable 'dense_21/bias:0' shape=(4,) dtype=float32, numpy=array([0., 0., 0., 0.], dtype=float32)>)"
            ]
          },
          "metadata": {},
          "execution_count": 16
        }
      ]
    },
    {
      "cell_type": "code",
      "source": [
        "# Built-in Initialization with\n",
        "#   1. first layer with the Xavier initializer\n",
        "#   2. second layer with constant value of 42.\n",
        "\n",
        "net = tf.keras.models.Sequential([\n",
        "    tf.keras.layers.Flatten(),\n",
        "    tf.keras.layers.Dense(\n",
        "        4,\n",
        "        activation=tf.nn.relu,\n",
        "        kernel_initializer=tf.keras.initializers.GlorotUniform()),\n",
        "    tf.keras.layers.Dense(\n",
        "        1, kernel_initializer=tf.keras.initializers.Constant(42)),\n",
        "])\n",
        "\n",
        "net(X)\n",
        "print(net.layers[1].weights[0])\n",
        "print(net.layers[2].weights[0])"
      ],
      "metadata": {
        "colab": {
          "base_uri": "https://localhost:8080/"
        },
        "id": "Wz1OCWYXh_VI",
        "outputId": "6fbba338-f68c-4b54-8c7a-c8a52ed23de3"
      },
      "execution_count": 17,
      "outputs": [
        {
          "output_type": "stream",
          "name": "stdout",
          "text": [
            "<tf.Variable 'dense_23/kernel:0' shape=(4, 4) dtype=float32, numpy=\n",
            "array([[ 0.08179694,  0.7055431 , -0.57094216, -0.10288644],\n",
            "       [ 0.12294793, -0.5841122 ,  0.0385046 ,  0.7406489 ],\n",
            "       [-0.20279175,  0.30120367, -0.44154307,  0.340581  ],\n",
            "       [ 0.28249007,  0.7263681 ,  0.35400862, -0.75482   ]],\n",
            "      dtype=float32)>\n",
            "<tf.Variable 'dense_24/kernel:0' shape=(4, 1) dtype=float32, numpy=\n",
            "array([[42.],\n",
            "       [42.],\n",
            "       [42.],\n",
            "       [42.]], dtype=float32)>\n"
          ]
        }
      ]
    },
    {
      "cell_type": "markdown",
      "source": [
        "### 5.2.2.2 Custom Initialization"
      ],
      "metadata": {
        "id": "KXe7yPrpilHj"
      }
    },
    {
      "cell_type": "markdown",
      "source": [
        "contoh dibawah ini kita ingin mendefinisikan penginisialisasi untuk parameter bobot $w$ menggunakan distribusi berikut :\n",
        "\n",
        "$\n",
        "\\begin{split}\\begin{aligned}\n",
        "    w \\sim \\begin{cases}\n",
        "        U(5, 10) & \\text{ with probability } \\frac{1}{4} \\\\\n",
        "            0    & \\text{ with probability } \\frac{1}{2} \\\\\n",
        "        U(-10, -5) & \\text{ with probability } \\frac{1}{4}\n",
        "    \\end{cases}\n",
        "\\end{aligned}\\end{split}\n",
        "$"
      ],
      "metadata": {
        "id": "NN3ySjRMizyl"
      }
    },
    {
      "cell_type": "code",
      "source": [
        "class MyInit(tf.keras.initializers.Initializer):\n",
        "    def __call__(self, shape, dtype=None):\n",
        "        data=tf.random.uniform(shape, -10, 10, dtype=dtype)\n",
        "        factor=(tf.abs(data) >= 5)\n",
        "        factor=tf.cast(factor, tf.float32)\n",
        "        return data * factor\n",
        "\n",
        "net = tf.keras.models.Sequential([\n",
        "    tf.keras.layers.Flatten(),\n",
        "    tf.keras.layers.Dense(\n",
        "        4,\n",
        "        activation=tf.nn.relu,\n",
        "        kernel_initializer=MyInit()),\n",
        "    tf.keras.layers.Dense(1),\n",
        "])\n",
        "\n",
        "net(X)\n",
        "print(net.layers[1].weights[0])"
      ],
      "metadata": {
        "colab": {
          "base_uri": "https://localhost:8080/"
        },
        "id": "6SlIqsg3iTtx",
        "outputId": "1ebc2878-45b5-4443-ca30-ef6f05604ed4"
      },
      "execution_count": 18,
      "outputs": [
        {
          "output_type": "stream",
          "name": "stdout",
          "text": [
            "<tf.Variable 'dense_25/kernel:0' shape=(4, 4) dtype=float32, numpy=\n",
            "array([[-0.       ,  7.1431255, -0.       ,  8.979313 ],\n",
            "       [-0.       , -5.6240654,  0.       , -7.999475 ],\n",
            "       [-0.       , -0.       ,  0.       ,  0.       ],\n",
            "       [ 8.706886 , -0.       , -7.641082 ,  9.704243 ]], dtype=float32)>\n"
          ]
        }
      ]
    },
    {
      "cell_type": "code",
      "source": [
        "# setting parameters directly\n",
        "\n",
        "net.layers[1].weights[0][:].assign(net.layers[1].weights[0] + 1)\n",
        "net.layers[1].weights[0][0, 0].assign(42)\n",
        "net.layers[1].weights[0]"
      ],
      "metadata": {
        "colab": {
          "base_uri": "https://localhost:8080/"
        },
        "id": "D862BZDdjonW",
        "outputId": "475acd28-9c24-4c26-f582-5fd5df5a52d5"
      },
      "execution_count": 19,
      "outputs": [
        {
          "output_type": "execute_result",
          "data": {
            "text/plain": [
              "<tf.Variable 'dense_25/kernel:0' shape=(4, 4) dtype=float32, numpy=\n",
              "array([[42.       ,  8.143126 ,  1.       ,  9.979313 ],\n",
              "       [ 1.       , -4.6240654,  1.       , -6.999475 ],\n",
              "       [ 1.       ,  1.       ,  1.       ,  1.       ],\n",
              "       [ 9.706886 ,  1.       , -6.641082 , 10.704243 ]], dtype=float32)>"
            ]
          },
          "metadata": {},
          "execution_count": 19
        }
      ]
    },
    {
      "cell_type": "markdown",
      "source": [
        "## 5.2.3 Tied Parameters"
      ],
      "metadata": {
        "id": "tB5OEyMEkAIk"
      }
    },
    {
      "cell_type": "code",
      "source": [
        "# tf.keras behaves a bit differently. It removes the duplicate layer\n",
        "# automatically\n",
        "shared = tf.keras.layers.Dense(4, activation=tf.nn.relu)\n",
        "net = tf.keras.models.Sequential([\n",
        "    tf.keras.layers.Flatten(),\n",
        "    shared,\n",
        "    shared,\n",
        "    tf.keras.layers.Dense(1),\n",
        "])\n",
        "\n",
        "net(X)\n",
        "# Check whether the parameters are different\n",
        "print(len(net.layers) == 3)"
      ],
      "metadata": {
        "colab": {
          "base_uri": "https://localhost:8080/"
        },
        "id": "TbnXuutckDKF",
        "outputId": "5d8971f5-f09e-4331-ef64-4347040d41d8"
      },
      "execution_count": 20,
      "outputs": [
        {
          "output_type": "stream",
          "name": "stdout",
          "text": [
            "True\n"
          ]
        }
      ]
    },
    {
      "cell_type": "markdown",
      "source": [
        "# 5.3 Deferred Initialization"
      ],
      "metadata": {
        "id": "FnOV9DbMknMb"
      }
    },
    {
      "cell_type": "markdown",
      "source": [
        "Sejauh ini, sepertinya kami tidak ceroboh dalam menyiapkan jaringan kami. Secara khusus, kami melakukan hal-hal tidak intuitif berikut, yang mungkin tidak terlihat seperti seharusnya. \n",
        "\n",
        "Anda mungkin terkejut bahwa kode kami berjalan sama sekali. Lagi pula, tidak mungkin kerangka kerja pembelajaran yang mendalam dapat memberi tahu seperti apa dimensi input dari suatu jaringan. Triknya di sini adalah bahwa kerangka kerja menunda inisialisasi, menunggu hingga pertama kali kami melewatkan data melalui model, untuk menyimpulkan ukuran setiap lapisan dengan cepat."
      ],
      "metadata": {
        "id": "B0Tnz0GklJI0"
      }
    },
    {
      "cell_type": "markdown",
      "source": [
        "### 5.3.1. Instantiating a Network"
      ],
      "metadata": {
        "id": "BjZQ8itQk55V"
      }
    },
    {
      "cell_type": "code",
      "source": [
        "net = tf.keras.models.Sequential([\n",
        "    tf.keras.layers.Dense(256, activation=tf.nn.relu),\n",
        "    tf.keras.layers.Dense(10),\n",
        "])"
      ],
      "metadata": {
        "id": "_Wg5DcqfkL1H"
      },
      "execution_count": 21,
      "outputs": []
    },
    {
      "cell_type": "code",
      "source": [
        "# pass data through the network to make the framework finally initialize parameters.\n",
        "X = tf.random.uniform((2, 20))\n",
        "net(X)\n",
        "[w.shape for w in net.get_weights()]"
      ],
      "metadata": {
        "colab": {
          "base_uri": "https://localhost:8080/"
        },
        "id": "zq0qxALjlfx-",
        "outputId": "c6e88f4a-1e9d-4bb3-cbbd-67c9e08ca336"
      },
      "execution_count": 22,
      "outputs": [
        {
          "output_type": "execute_result",
          "data": {
            "text/plain": [
              "[(20, 256), (256,), (256, 10), (10,)]"
            ]
          },
          "metadata": {},
          "execution_count": 22
        }
      ]
    },
    {
      "cell_type": "markdown",
      "source": [
        "## 5.4 Custom Layers"
      ],
      "metadata": {
        "id": "VYHWFyelmv8M"
      }
    },
    {
      "cell_type": "markdown",
      "source": [
        "Deep Learning menjadi populer karena ketersediaan berbagai *layers* yang dapat disusun dengan cara kreatif untuk merancang arsitektur yang cocok untuk berbagai tugas. Misalnya, para peneliti telah menemukan *layers* khusus untuk menangani gambar, teks, mengulang data sekuensial, dan melakukan pemrograman dinamis"
      ],
      "metadata": {
        "id": "8GbVe9ig5ogm"
      }
    },
    {
      "cell_type": "markdown",
      "source": [
        "### 5.4.1. Layers without Parameters"
      ],
      "metadata": {
        "id": "qjlsb7-k5WK-"
      }
    },
    {
      "cell_type": "code",
      "source": [
        "# layer that does not have any parameters\n",
        "\n",
        "class CenteredLayer(tf.keras.Model):\n",
        "    def __init__(self):\n",
        "        super().__init__()\n",
        "\n",
        "    def call(self, inputs):\n",
        "        return inputs - tf.reduce_mean(inputs)"
      ],
      "metadata": {
        "id": "ksfYmAsamgPS"
      },
      "execution_count": 23,
      "outputs": []
    },
    {
      "cell_type": "code",
      "source": [
        "# Fedding data to layer\n",
        "layer = CenteredLayer()\n",
        "layer(tf.constant([1, 2, 3, 4, 5]))"
      ],
      "metadata": {
        "colab": {
          "base_uri": "https://localhost:8080/"
        },
        "id": "ZHO61ZB_5cSk",
        "outputId": "ace6b44b-2b98-4714-ac4a-9b945c9471dd"
      },
      "execution_count": 24,
      "outputs": [
        {
          "output_type": "execute_result",
          "data": {
            "text/plain": [
              "<tf.Tensor: shape=(5,), dtype=int32, numpy=array([-2, -1,  0,  1,  2], dtype=int32)>"
            ]
          },
          "metadata": {},
          "execution_count": 24
        }
      ]
    },
    {
      "cell_type": "code",
      "source": [
        "net = tf.keras.Sequential([tf.keras.layers.Dense(128), CenteredLayer()])"
      ],
      "metadata": {
        "id": "NCVG2CZz6gIW"
      },
      "execution_count": 25,
      "outputs": []
    },
    {
      "cell_type": "code",
      "source": [
        "# send random data through the network and check that the mean is in fact 0\n",
        "\n",
        "Y = net(tf.random.uniform((4, 8)))\n",
        "tf.reduce_mean(Y)"
      ],
      "metadata": {
        "id": "2CFO_8Aa6wnO"
      },
      "execution_count": null,
      "outputs": []
    },
    {
      "cell_type": "markdown",
      "source": [
        "### 5.4.2. Layers with Parameters"
      ],
      "metadata": {
        "id": "VGMHvpIx53xW"
      }
    },
    {
      "cell_type": "markdown",
      "source": [
        "sekarang buat layer yang bisa mengatur akses, inisialisasi, berbagi, menyimpan, dan memuat parameter model"
      ],
      "metadata": {
        "id": "rYw0yeP47d3W"
      }
    },
    {
      "cell_type": "code",
      "source": [
        "class MyDense(tf.keras.Model):\n",
        "    def __init__(self, units):\n",
        "        super().__init__()\n",
        "        self.units = units\n",
        "\n",
        "    def build(self, X_shape):\n",
        "        self.weight = self.add_weight(name='weight',\n",
        "            shape=[X_shape[-1], self.units],\n",
        "            initializer=tf.random_normal_initializer())\n",
        "        self.bias = self.add_weight(\n",
        "            name='bias', shape=[self.units],\n",
        "            initializer=tf.zeros_initializer())\n",
        "\n",
        "    def call(self, X):\n",
        "        linear = tf.matmul(X, self.weight) + self.bias\n",
        "        return tf.nn.relu(linear)"
      ],
      "metadata": {
        "id": "QCwmizNW7BQW"
      },
      "execution_count": 27,
      "outputs": []
    },
    {
      "cell_type": "code",
      "source": [
        "# instantiate the MyDense class and access its model parameters\n",
        "\n",
        "dense = MyDense(3)\n",
        "dense(tf.random.uniform((2, 5)))\n",
        "dense.get_weights()"
      ],
      "metadata": {
        "colab": {
          "base_uri": "https://localhost:8080/"
        },
        "id": "2hYPoga570t1",
        "outputId": "29112130-b2c7-450e-9ed2-be202afb8e34"
      },
      "execution_count": 28,
      "outputs": [
        {
          "output_type": "execute_result",
          "data": {
            "text/plain": [
              "[array([[-0.01677377, -0.03413559,  0.08295175],\n",
              "        [ 0.12640269, -0.04505158,  0.07163015],\n",
              "        [ 0.04286781,  0.03438101, -0.06119176],\n",
              "        [-0.04010909,  0.06591933, -0.07513057],\n",
              "        [ 0.02709937,  0.05705613, -0.01169976]], dtype=float32),\n",
              " array([0., 0., 0.], dtype=float32)]"
            ]
          },
          "metadata": {},
          "execution_count": 28
        }
      ]
    },
    {
      "cell_type": "code",
      "source": [
        "# forward propagation calculations using custom layers\n",
        "\n",
        "dense(tf.random.uniform((2, 5)))"
      ],
      "metadata": {
        "colab": {
          "base_uri": "https://localhost:8080/"
        },
        "id": "o4irKjKx72_F",
        "outputId": "327c3f0b-90cc-4c6c-c519-33ee9f794bbd"
      },
      "execution_count": 29,
      "outputs": [
        {
          "output_type": "execute_result",
          "data": {
            "text/plain": [
              "<tf.Tensor: shape=(2, 3), dtype=float32, numpy=\n",
              "array([[0.10330303, 0.02259478, 0.        ],\n",
              "       [0.10658844, 0.        , 0.02003217]], dtype=float32)>"
            ]
          },
          "metadata": {},
          "execution_count": 29
        }
      ]
    },
    {
      "cell_type": "code",
      "source": [
        "# construct models using custom layers\n",
        "\n",
        "net = tf.keras.models.Sequential([MyDense(8), MyDense(1)])\n",
        "net(tf.random.uniform((2, 64)))"
      ],
      "metadata": {
        "colab": {
          "base_uri": "https://localhost:8080/"
        },
        "id": "d1BC3hcD8B6i",
        "outputId": "d9cdbfbb-7821-424e-e10a-182ea635a2c9"
      },
      "execution_count": 30,
      "outputs": [
        {
          "output_type": "execute_result",
          "data": {
            "text/plain": [
              "<tf.Tensor: shape=(2, 1), dtype=float32, numpy=\n",
              "array([[0.02576924],\n",
              "       [0.01531849]], dtype=float32)>"
            ]
          },
          "metadata": {},
          "execution_count": 30
        }
      ]
    },
    {
      "cell_type": "markdown",
      "source": [
        "## 5.5. File I/O"
      ],
      "metadata": {
        "id": "r7Li-b4v8VL2"
      }
    },
    {
      "cell_type": "markdown",
      "source": [
        "saat menjalankan proses pelatihan yang panjang, praktik terbaik adalah menyimpan hasil antara (*checkpointing*) secara berkala untuk memastikan bahwa kami tidak kehilangan perhitungan beberapa hari jika kami tersandung kabel daya server kami. Jadi inilah saatnya untuk mempelajari cara memuat dan menyimpan vektor bobot individu dan seluruh model"
      ],
      "metadata": {
        "id": "bj95D_UO8uYu"
      }
    },
    {
      "cell_type": "markdown",
      "source": [
        "### 5.5.1. Loading and Saving Tensors"
      ],
      "metadata": {
        "id": "R7Nfir7k8gjG"
      }
    },
    {
      "cell_type": "markdown",
      "source": [
        "Untuk tensor individual, kita dapat langsung menjalankan fungsi load dan save untuk membaca dan menulisnya masing-masing"
      ],
      "metadata": {
        "id": "uym_T1fG9K5W"
      }
    },
    {
      "cell_type": "code",
      "source": [
        "import numpy as np\n",
        "import tensorflow as tf\n",
        "\n",
        "x = tf.range(4)\n",
        "np.save('x-file.npy', x)"
      ],
      "metadata": {
        "id": "PAvsMNdp8KHb"
      },
      "execution_count": 31,
      "outputs": []
    },
    {
      "cell_type": "code",
      "source": [
        "x2 = np.load('x-file.npy', allow_pickle=True)\n",
        "x2"
      ],
      "metadata": {
        "colab": {
          "base_uri": "https://localhost:8080/"
        },
        "id": "vFm9sqsR8lV2",
        "outputId": "08182ddb-94b0-4613-9691-ffb6d61559b3"
      },
      "execution_count": 32,
      "outputs": [
        {
          "output_type": "execute_result",
          "data": {
            "text/plain": [
              "array([0, 1, 2, 3], dtype=int32)"
            ]
          },
          "metadata": {},
          "execution_count": 32
        }
      ]
    },
    {
      "cell_type": "code",
      "source": [
        "y = tf.zeros(4)\n",
        "np.save('xy-files.npy', [x, y])\n",
        "x2, y2 = np.load('xy-files.npy', allow_pickle=True)\n",
        "(x2, y2)"
      ],
      "metadata": {
        "colab": {
          "base_uri": "https://localhost:8080/"
        },
        "id": "CAay-WX786Ab",
        "outputId": "2808d419-7a61-453c-99a6-c87cf888e33c"
      },
      "execution_count": 33,
      "outputs": [
        {
          "output_type": "execute_result",
          "data": {
            "text/plain": [
              "(array([0., 1., 2., 3.]), array([0., 0., 0., 0.]))"
            ]
          },
          "metadata": {},
          "execution_count": 33
        }
      ]
    },
    {
      "cell_type": "markdown",
      "source": [
        "### 5.5.2. Loading and Saving Model Parameters"
      ],
      "metadata": {
        "id": "EVEthOvD9BWm"
      }
    },
    {
      "cell_type": "markdown",
      "source": [
        "Menyimpan vektor bobot individu (atau tensor lainnya) berguna, tetapi akan sangat membosankan jika kita ingin menyimpan (dan kemudian memuat) seluruh model. Bagaimanapun, kita mungkin memiliki ratusan grup parameter yang tersebar di seluruh. Untuk alasan ini, kerangka kerja pembelajaran mendalam menyediakan fungsionalitas bawaan untuk memuat dan menyimpan seluruh jaringan"
      ],
      "metadata": {
        "id": "Zo4YxyJV9L22"
      }
    },
    {
      "cell_type": "code",
      "source": [
        "class MLP(tf.keras.Model):\n",
        "    def __init__(self):\n",
        "        super().__init__()\n",
        "        self.flatten = tf.keras.layers.Flatten()\n",
        "        self.hidden = tf.keras.layers.Dense(units=256, activation=tf.nn.relu)\n",
        "        self.out = tf.keras.layers.Dense(units=10)\n",
        "\n",
        "    def call(self, inputs):\n",
        "        x = self.flatten(inputs)\n",
        "        x = self.hidden(x)\n",
        "        return self.out(x)\n",
        "\n",
        "net = MLP()\n",
        "X = tf.random.uniform((2, 20))\n",
        "Y = net(X)"
      ],
      "metadata": {
        "id": "bPk_kWKq895v"
      },
      "execution_count": 34,
      "outputs": []
    },
    {
      "cell_type": "code",
      "source": [
        "net.save_weights('mlp.params')"
      ],
      "metadata": {
        "id": "_1RK4K1P9dPZ"
      },
      "execution_count": 35,
      "outputs": []
    },
    {
      "cell_type": "code",
      "source": [
        "clone = MLP()\n",
        "clone.load_weights('mlp.params')"
      ],
      "metadata": {
        "colab": {
          "base_uri": "https://localhost:8080/"
        },
        "id": "_eXpDpoF9e32",
        "outputId": "c702a2ae-9d2c-4414-f4a4-b69af98cc28e"
      },
      "execution_count": 36,
      "outputs": [
        {
          "output_type": "execute_result",
          "data": {
            "text/plain": [
              "<tensorflow.python.training.tracking.util.CheckpointLoadStatus at 0x7fa4eb229150>"
            ]
          },
          "metadata": {},
          "execution_count": 36
        }
      ]
    },
    {
      "cell_type": "code",
      "source": [
        "clone = MLP()\n",
        "clone.load_weights('mlp.params')"
      ],
      "metadata": {
        "colab": {
          "base_uri": "https://localhost:8080/"
        },
        "id": "n_o6dNYb9gEQ",
        "outputId": "9099a879-aa7c-41ef-95c5-501005cd3dff"
      },
      "execution_count": 37,
      "outputs": [
        {
          "output_type": "execute_result",
          "data": {
            "text/plain": [
              "<tensorflow.python.training.tracking.util.CheckpointLoadStatus at 0x7fa4eb01f690>"
            ]
          },
          "metadata": {},
          "execution_count": 37
        }
      ]
    },
    {
      "cell_type": "markdown",
      "source": [
        "## 5.6. GPUs"
      ],
      "metadata": {
        "id": "3fUmDRlZ9_i_"
      }
    },
    {
      "cell_type": "code",
      "source": [
        "!nvidia-smi"
      ],
      "metadata": {
        "colab": {
          "base_uri": "https://localhost:8080/"
        },
        "id": "hVEfwuHG9hQA",
        "outputId": "95a28bfc-8b83-463a-de7f-b77cdaaee6a7"
      },
      "execution_count": 38,
      "outputs": [
        {
          "output_type": "stream",
          "name": "stdout",
          "text": [
            "NVIDIA-SMI has failed because it couldn't communicate with the NVIDIA driver. Make sure that the latest NVIDIA driver is installed and running.\n",
            "\n"
          ]
        }
      ]
    },
    {
      "cell_type": "markdown",
      "source": [
        "### 5.6.1. Computing Devices"
      ],
      "metadata": {
        "id": "ZNktBBYu-JgG"
      }
    },
    {
      "cell_type": "markdown",
      "source": [
        "menentukan perangkat, seperti CPU dan GPU, untuk penyimpanan dan penghitungan. Secara default, tensor dibuat di memori utama dan kemudian menggunakan CPU untuk menghitungnya.\n"
      ],
      "metadata": {
        "id": "ZMq_LBA6-pXu"
      }
    },
    {
      "cell_type": "code",
      "source": [
        "tf.device('/CPU:0'), tf.device('/GPU:0'), tf.device('/GPU:1')"
      ],
      "metadata": {
        "colab": {
          "base_uri": "https://localhost:8080/"
        },
        "id": "0glB7pCz-EKA",
        "outputId": "dfffcb89-af5d-4e7c-95c0-1c1007b5c277"
      },
      "execution_count": 39,
      "outputs": [
        {
          "output_type": "execute_result",
          "data": {
            "text/plain": [
              "(<tensorflow.python.eager.context._EagerDeviceContext at 0x7fa4eb1dad20>,\n",
              " <tensorflow.python.eager.context._EagerDeviceContext at 0x7fa4eb1da2d0>,\n",
              " <tensorflow.python.eager.context._EagerDeviceContext at 0x7fa4eb0092d0>)"
            ]
          },
          "metadata": {},
          "execution_count": 39
        }
      ]
    },
    {
      "cell_type": "code",
      "source": [
        "# # query the number of available GPUs\n",
        "\n",
        "len(tf.config.experimental.list_physical_devices('GPU'))"
      ],
      "metadata": {
        "colab": {
          "base_uri": "https://localhost:8080/"
        },
        "id": "uta5XQ43-MBk",
        "outputId": "febc6fd1-8162-4854-a91f-c40c0b1412e6"
      },
      "execution_count": 40,
      "outputs": [
        {
          "output_type": "execute_result",
          "data": {
            "text/plain": [
              "0"
            ]
          },
          "metadata": {},
          "execution_count": 40
        }
      ]
    },
    {
      "cell_type": "code",
      "source": [
        "# define two convenient functions that allow us to run code even if the requested GPUs do not exist\n",
        "\n",
        "def try_gpu(i=0):  #save\n",
        "    \"\"\"Return gpu(i) if exists, otherwise return cpu().\"\"\"\n",
        "    if len(tf.config.experimental.list_physical_devices('GPU')) >= i + 1:\n",
        "        return tf.device(f'/GPU:{i}')\n",
        "    return tf.device('/CPU:0')\n",
        "\n",
        "def try_all_gpus():  #save\n",
        "    \"\"\"Return all available GPUs, or [cpu(),] if no GPU exists.\"\"\"\n",
        "    num_gpus = len(tf.config.experimental.list_physical_devices('GPU'))\n",
        "    devices = [tf.device(f'/GPU:{i}') for i in range(num_gpus)]\n",
        "    return devices if devices else [tf.device('/CPU:0')]\n",
        "\n",
        "try_gpu(), try_gpu(10), try_all_gpus()"
      ],
      "metadata": {
        "colab": {
          "base_uri": "https://localhost:8080/"
        },
        "id": "atjCzK-C-N-e",
        "outputId": "1da61468-e41e-433f-bb4d-83a1ee610243"
      },
      "execution_count": 42,
      "outputs": [
        {
          "output_type": "execute_result",
          "data": {
            "text/plain": [
              "(<tensorflow.python.eager.context._EagerDeviceContext at 0x7fa4eb1e94b0>,\n",
              " <tensorflow.python.eager.context._EagerDeviceContext at 0x7fa4eb1e9320>,\n",
              " [<tensorflow.python.eager.context._EagerDeviceContext at 0x7fa4eb1e91e0>])"
            ]
          },
          "metadata": {},
          "execution_count": 42
        }
      ]
    },
    {
      "cell_type": "markdown",
      "source": [
        "### 5.6.2. Tensors and GPUs"
      ],
      "metadata": {
        "id": "D7Lu_Hka-7sm"
      }
    },
    {
      "cell_type": "markdown",
      "source": [
        "tensors are created on the CPU. We can query the device where the tensor is located.\n",
        "\n"
      ],
      "metadata": {
        "id": "vfBl87d3-_Pe"
      }
    },
    {
      "cell_type": "code",
      "source": [
        "x = tf.constant([1, 2, 3])\n",
        "x.device"
      ],
      "metadata": {
        "colab": {
          "base_uri": "https://localhost:8080/",
          "height": 35
        },
        "id": "wuE9ftJV-SIA",
        "outputId": "ba7b27a5-c189-4628-c15b-f9dad1ca2ef2"
      },
      "execution_count": 43,
      "outputs": [
        {
          "output_type": "execute_result",
          "data": {
            "text/plain": [
              "'/job:localhost/replica:0/task:0/device:CPU:0'"
            ],
            "application/vnd.google.colaboratory.intrinsic+json": {
              "type": "string"
            }
          },
          "metadata": {},
          "execution_count": 43
        }
      ]
    },
    {
      "cell_type": "markdown",
      "source": [
        "#### 5.6.2.1. Storage on the GPU"
      ],
      "metadata": {
        "id": "_70jXCl0_GIf"
      }
    },
    {
      "cell_type": "markdown",
      "source": [
        "kita dapat menentukan perangkat penyimpanan saat membuat tensor. Selanjutnya, kita membuat variabel tensor X pada GPU pertama\n"
      ],
      "metadata": {
        "id": "ZkQdUL0F_Y0e"
      }
    },
    {
      "cell_type": "code",
      "source": [
        "with try_gpu():\n",
        "    X = tf.ones((2, 3))\n",
        "X"
      ],
      "metadata": {
        "colab": {
          "base_uri": "https://localhost:8080/"
        },
        "id": "EbktOdr5_BVX",
        "outputId": "8bfa1cd8-f398-47de-d08b-908cdbfcffc4"
      },
      "execution_count": 44,
      "outputs": [
        {
          "output_type": "execute_result",
          "data": {
            "text/plain": [
              "<tf.Tensor: shape=(2, 3), dtype=float32, numpy=\n",
              "array([[1., 1., 1.],\n",
              "       [1., 1., 1.]], dtype=float32)>"
            ]
          },
          "metadata": {},
          "execution_count": 44
        }
      ]
    },
    {
      "cell_type": "markdown",
      "source": [
        "Assuming that you have at least two GPUs, the following code will create a random tensor on the second GPU.\n",
        "\n"
      ],
      "metadata": {
        "id": "wo4Gw88r_ZpA"
      }
    },
    {
      "cell_type": "code",
      "source": [
        "with try_gpu():\n",
        "    X = tf.ones((2, 3))\n",
        "X"
      ],
      "metadata": {
        "colab": {
          "base_uri": "https://localhost:8080/"
        },
        "id": "osVCIhgo_OD2",
        "outputId": "3e5628f6-b77c-4a24-e2d9-443b29494f35"
      },
      "execution_count": 45,
      "outputs": [
        {
          "output_type": "execute_result",
          "data": {
            "text/plain": [
              "<tf.Tensor: shape=(2, 3), dtype=float32, numpy=\n",
              "array([[1., 1., 1.],\n",
              "       [1., 1., 1.]], dtype=float32)>"
            ]
          },
          "metadata": {},
          "execution_count": 45
        }
      ]
    },
    {
      "cell_type": "code",
      "source": [
        "with try_gpu(1):\n",
        "    Y = tf.random.uniform((2, 3))\n",
        "Y"
      ],
      "metadata": {
        "colab": {
          "base_uri": "https://localhost:8080/"
        },
        "id": "xsEVglqXDM_F",
        "outputId": "ed1abd21-d8c9-48f3-833b-61339941d7c6"
      },
      "execution_count": 49,
      "outputs": [
        {
          "output_type": "execute_result",
          "data": {
            "text/plain": [
              "<tf.Tensor: shape=(2, 3), dtype=float32, numpy=\n",
              "array([[0.40587854, 0.13060927, 0.47710764],\n",
              "       [0.24682248, 0.21854162, 0.69264865]], dtype=float32)>"
            ]
          },
          "metadata": {},
          "execution_count": 49
        }
      ]
    },
    {
      "cell_type": "markdown",
      "source": [
        "#### 5.6.2.2. Copying"
      ],
      "metadata": {
        "id": "FL-eZHDP_erG"
      }
    },
    {
      "cell_type": "code",
      "source": [
        "with try_gpu(1):\n",
        "    Z = X\n",
        "print(X)\n",
        "print(Z)"
      ],
      "metadata": {
        "colab": {
          "base_uri": "https://localhost:8080/"
        },
        "id": "gAufez6n_PjI",
        "outputId": "0ee779cc-3a57-477b-c8d2-fcd83cdc63bb"
      },
      "execution_count": 50,
      "outputs": [
        {
          "output_type": "stream",
          "name": "stdout",
          "text": [
            "tf.Tensor(\n",
            "[[1. 1. 1.]\n",
            " [1. 1. 1.]], shape=(2, 3), dtype=float32)\n",
            "tf.Tensor(\n",
            "[[1. 1. 1.]\n",
            " [1. 1. 1.]], shape=(2, 3), dtype=float32)\n"
          ]
        }
      ]
    },
    {
      "cell_type": "code",
      "source": [
        "Y + Z"
      ],
      "metadata": {
        "colab": {
          "base_uri": "https://localhost:8080/"
        },
        "id": "LZKG_ghaCaqX",
        "outputId": "3b0a7a11-7401-4c76-d6e3-3ccd5eb58061"
      },
      "execution_count": 51,
      "outputs": [
        {
          "output_type": "execute_result",
          "data": {
            "text/plain": [
              "<tf.Tensor: shape=(2, 3), dtype=float32, numpy=\n",
              "array([[1.4058785, 1.1306093, 1.4771076],\n",
              "       [1.2468225, 1.2185416, 1.6926486]], dtype=float32)>"
            ]
          },
          "metadata": {},
          "execution_count": 51
        }
      ]
    },
    {
      "cell_type": "code",
      "source": [
        "with try_gpu(1):\n",
        "    Z2 = Z\n",
        "Z2 is Z"
      ],
      "metadata": {
        "colab": {
          "base_uri": "https://localhost:8080/"
        },
        "id": "BajHqJ-CDF_r",
        "outputId": "ae83d6da-ad48-4384-930a-8a271a41f64d"
      },
      "execution_count": 52,
      "outputs": [
        {
          "output_type": "execute_result",
          "data": {
            "text/plain": [
              "True"
            ]
          },
          "metadata": {},
          "execution_count": 52
        }
      ]
    },
    {
      "cell_type": "markdown",
      "source": [
        "### 5.6.3. Neural Networks and GPUs"
      ],
      "metadata": {
        "id": "wZYdOeefDoOr"
      }
    },
    {
      "cell_type": "code",
      "source": [
        "strategy = tf.distribute.MirroredStrategy()\n",
        "with strategy.scope():\n",
        "    net = tf.keras.models.Sequential([\n",
        "        tf.keras.layers.Dense(1)])"
      ],
      "metadata": {
        "colab": {
          "base_uri": "https://localhost:8080/"
        },
        "id": "2sbyvWwIDjoq",
        "outputId": "efcbed20-abb0-48cc-e57c-dd16ec139f9a"
      },
      "execution_count": 53,
      "outputs": [
        {
          "output_type": "stream",
          "name": "stdout",
          "text": [
            "WARNING:tensorflow:There are non-GPU devices in `tf.distribute.Strategy`, not using nccl allreduce.\n",
            "INFO:tensorflow:Using MirroredStrategy with devices ('/job:localhost/replica:0/task:0/device:CPU:0',)\n"
          ]
        }
      ]
    },
    {
      "cell_type": "code",
      "source": [
        "net(X)"
      ],
      "metadata": {
        "colab": {
          "base_uri": "https://localhost:8080/"
        },
        "id": "TJS-QqsuDs-s",
        "outputId": "e1728a5f-c60f-4cec-bdec-824e13aaef6a"
      },
      "execution_count": 54,
      "outputs": [
        {
          "output_type": "execute_result",
          "data": {
            "text/plain": [
              "<tf.Tensor: shape=(2, 1), dtype=float32, numpy=\n",
              "array([[0.9220355],\n",
              "       [0.9220355]], dtype=float32)>"
            ]
          },
          "metadata": {},
          "execution_count": 54
        }
      ]
    },
    {
      "cell_type": "code",
      "source": [
        "net.layers[0].weights[0].device, net.layers[0].weights[1].device"
      ],
      "metadata": {
        "id": "2slf6OgoDvCk",
        "outputId": "cd755413-6a88-400c-87a8-b525d3c1a4e3",
        "colab": {
          "base_uri": "https://localhost:8080/"
        }
      },
      "execution_count": 55,
      "outputs": [
        {
          "output_type": "execute_result",
          "data": {
            "text/plain": [
              "('/job:localhost/replica:0/task:0/device:CPU:0',\n",
              " '/job:localhost/replica:0/task:0/device:CPU:0')"
            ]
          },
          "metadata": {},
          "execution_count": 55
        }
      ]
    },
    {
      "cell_type": "code",
      "source": [
        ""
      ],
      "metadata": {
        "id": "TmC8NsCHDw-0"
      },
      "execution_count": null,
      "outputs": []
    }
  ]
}