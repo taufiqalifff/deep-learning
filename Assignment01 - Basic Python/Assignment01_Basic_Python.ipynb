{
  "nbformat": 4,
  "nbformat_minor": 0,
  "metadata": {
    "colab": {
      "name": "Assignment01 - Basic Python.ipynb",
      "provenance": []
    },
    "kernelspec": {
      "name": "python3",
      "display_name": "Python 3"
    },
    "language_info": {
      "name": "python"
    }
  },
  "cells": [
    {
      "cell_type": "markdown",
      "metadata": {
        "id": "wS3irTnwu04i"
      },
      "source": [
        "This colab will cover some introduction to Python Programming Language : \n",
        "- How to output a text\n",
        "- Comment in Python\n",
        "- Variables in Python\n",
        "- Casting\n",
        "- String\n",
        "- Operators\n",
        "- If - Else\n",
        "- Looping\n",
        "- Function\n",
        "- Data Structure in Python"
      ]
    },
    {
      "cell_type": "markdown",
      "metadata": {
        "id": "BBqE5B6HZggC"
      },
      "source": [
        "## **Print Command**\n",
        "\n",
        "To put an output, you can just call print command : **print(  )**"
      ]
    },
    {
      "cell_type": "code",
      "metadata": {
        "id": "V-jDckAyuowf",
        "outputId": "571fc10a-7f4d-4de2-9b60-dc297cc91bc9",
        "colab": {
          "base_uri": "https://localhost:8080/"
        }
      },
      "source": [
        "print(\"Hello Universitas Hasanuddin\")"
      ],
      "execution_count": 22,
      "outputs": [
        {
          "output_type": "stream",
          "name": "stdout",
          "text": [
            "Hello Universitas Hasanuddin\n"
          ]
        }
      ]
    },
    {
      "cell_type": "code",
      "metadata": {
        "id": "JYt8T-6LLCiA",
        "outputId": "a77c4196-d54f-4913-b269-d116ff39280e",
        "colab": {
          "base_uri": "https://localhost:8080/"
        }
      },
      "source": [
        "print(10)"
      ],
      "execution_count": 23,
      "outputs": [
        {
          "output_type": "stream",
          "name": "stdout",
          "text": [
            "10\n"
          ]
        }
      ]
    },
    {
      "cell_type": "code",
      "metadata": {
        "id": "Oq8E1ZnziROo",
        "colab": {
          "base_uri": "https://localhost:8080/"
        },
        "outputId": "74e2dd49-f245-44c8-da47-dcc1ec65deb7"
      },
      "source": [
        "10"
      ],
      "execution_count": 24,
      "outputs": [
        {
          "output_type": "execute_result",
          "data": {
            "text/plain": [
              "10"
            ]
          },
          "metadata": {},
          "execution_count": 24
        }
      ]
    },
    {
      "cell_type": "markdown",
      "metadata": {
        "id": "edmN91f6iceV"
      },
      "source": [
        "Try to print something on your own."
      ]
    },
    {
      "cell_type": "code",
      "metadata": {
        "id": "fz-CyVXBiR8B",
        "outputId": "ea7bf697-3b6e-4e06-df62-d060721bcecb",
        "colab": {
          "base_uri": "https://localhost:8080/"
        }
      },
      "source": [
        "print(\"test - 2\" , end=\" \")\n",
        "print(\"last\")"
      ],
      "execution_count": 25,
      "outputs": [
        {
          "output_type": "stream",
          "name": "stdout",
          "text": [
            "test - 2 last\n"
          ]
        }
      ]
    },
    {
      "cell_type": "markdown",
      "metadata": {
        "id": "jlOyTafEiqEJ"
      },
      "source": [
        "## **Comment in Python**\n",
        "\n",
        "Comments can be used to :\n",
        "- make the code more readable\n",
        "- prevent execution when testing code\n",
        "\n",
        "In Python, you can make comment using **#** command."
      ]
    },
    {
      "cell_type": "code",
      "metadata": {
        "id": "1adUV7fliv3M",
        "colab": {
          "base_uri": "https://localhost:8080/"
        },
        "outputId": "5fd58742-ae38-4f89-ea31-779a61bad471"
      },
      "source": [
        "# This is the explanation of code\n",
        "print(\"Comment is not execute.\")"
      ],
      "execution_count": 26,
      "outputs": [
        {
          "output_type": "stream",
          "name": "stdout",
          "text": [
            "Comment is not execute.\n"
          ]
        }
      ]
    },
    {
      "cell_type": "markdown",
      "metadata": {
        "id": "uMnJA3s9ptzo"
      },
      "source": [
        "For multi-line command you can use triple quotes and place command inside it."
      ]
    },
    {
      "cell_type": "code",
      "metadata": {
        "id": "WwWW_zS9n8aT",
        "colab": {
          "base_uri": "https://localhost:8080/"
        },
        "outputId": "e09ea50d-6f4d-4dcf-bd48-75bf48680cfc"
      },
      "source": [
        "\"\"\"\n",
        "First line comment\n",
        "Second line comment\n",
        "...\n",
        "\"\"\"\n",
        "\n",
        "print(\"Comment is not execute\")"
      ],
      "execution_count": 27,
      "outputs": [
        {
          "output_type": "stream",
          "name": "stdout",
          "text": [
            "Comment is not execute\n"
          ]
        }
      ]
    },
    {
      "cell_type": "markdown",
      "metadata": {
        "id": "F7eGm0cvtmyN"
      },
      "source": [
        "## **Variables in Python**\n",
        "\n",
        "Data values can be stored in variables. Unlike other programming language, Python don't have command for declaring a variable. A variable is created at the moment you assign a value to it. Also, variable don't need to be declared with any particular type and can even change type after they have been set."
      ]
    },
    {
      "cell_type": "code",
      "metadata": {
        "id": "TEWS7xRDqVCP",
        "outputId": "c7cd51e8-be0b-4310-85c1-0944d0b1a030",
        "colab": {
          "base_uri": "https://localhost:8080/"
        }
      },
      "source": [
        "x = 'Unhas' # type of x is string\n",
        "\n",
        "#x = 10          # type of x change to int\n",
        "z = x + \"13\"\n",
        "print(z)"
      ],
      "execution_count": 28,
      "outputs": [
        {
          "output_type": "stream",
          "name": "stdout",
          "text": [
            "Unhas13\n"
          ]
        }
      ]
    },
    {
      "cell_type": "markdown",
      "metadata": {
        "id": "wtuGOArYD0PJ"
      },
      "source": [
        "A variable can have a short name (like x and y) or a more descriptive name (age, carName, total_volume). Rules for Python variables:\n",
        "- A variable name **must** start with a letter or the underscore character\n",
        "- A variable name **cannot start with a number**\n",
        "- A variable name can only contain **alpha-numeric characters and underscores** (A-z, 0-9, and _ )\n",
        "\n",
        "Variable names are case-sensitive (age, Age and AGE are three different variables)"
      ]
    },
    {
      "cell_type": "markdown",
      "metadata": {
        "id": "oGv1UO_uGSvi"
      },
      "source": [
        "Besides, Python also allows you to assign values to **multiple variables** in one line."
      ]
    },
    {
      "cell_type": "code",
      "metadata": {
        "id": "KzGSTBMSDaJy",
        "colab": {
          "base_uri": "https://localhost:8080/"
        },
        "outputId": "5a27de07-d86a-4008-ab28-b0faed92d1b2"
      },
      "source": [
        "a, b, c = \"Universitas\", 'Hasanuddin', 1\n",
        "\n",
        "print(a)\n",
        "print(b)\n",
        "print(c)"
      ],
      "execution_count": 29,
      "outputs": [
        {
          "output_type": "stream",
          "name": "stdout",
          "text": [
            "Universitas\n",
            "Hasanuddin\n",
            "1\n"
          ]
        }
      ]
    },
    {
      "cell_type": "markdown",
      "metadata": {
        "id": "N69H7AlbGrfq"
      },
      "source": [
        "Or, you can assingn **same value** to multiple variables in one line."
      ]
    },
    {
      "cell_type": "code",
      "metadata": {
        "id": "lTWVTboyGlzv",
        "outputId": "9f6ea7d5-60d1-4d5e-c0a1-75e4b3b7d41e",
        "colab": {
          "base_uri": "https://localhost:8080/"
        }
      },
      "source": [
        "a = b = c = \"FMIPA Unhas\"\n",
        "\n",
        "print(a, b, c)"
      ],
      "execution_count": 30,
      "outputs": [
        {
          "output_type": "stream",
          "name": "stdout",
          "text": [
            "FMIPA Unhas FMIPA Unhas FMIPA Unhas\n"
          ]
        }
      ]
    },
    {
      "cell_type": "markdown",
      "metadata": {
        "id": "WBlzSikUJyCb"
      },
      "source": [
        "## **Casting**\n",
        "\n",
        "There may be times when you want to specify a type on to a variable. This can be done with casting. Python is an object-orientated language, and as such it uses classes to define data types, including its primitive types.\n",
        "\n",
        "Casting in python is therefore done using constructor functions:\n",
        "\n",
        "- **int()** - constructs an integer number from an integer literal, a float literal (by rounding down to the previous whole number), or a string literal (providing the string represents a whole number)\n",
        "- **float()** - constructs a float number from an integer literal, a float literal or a string literal (providing the string represents a float or an integer)\n",
        "- **str()** - constructs a string from a wide variety of data types, including strings, integer literals and float literals"
      ]
    },
    {
      "cell_type": "code",
      "metadata": {
        "id": "yzkbDXZ6HMlT",
        "outputId": "8ffc9e57-a100-45ea-aab6-dbb70a88744f",
        "colab": {
          "base_uri": "https://localhost:8080/"
        }
      },
      "source": [
        "# Cast value to int\n",
        "\n",
        "a = int(10)\n",
        "b = int(10.82)\n",
        "c = int('3')\n",
        "\n",
        "print(a, b, c)\n",
        "print(a + b)"
      ],
      "execution_count": 31,
      "outputs": [
        {
          "output_type": "stream",
          "name": "stdout",
          "text": [
            "10 10 3\n",
            "20\n"
          ]
        }
      ]
    },
    {
      "cell_type": "code",
      "metadata": {
        "id": "GvEbW6xfKz8c",
        "colab": {
          "base_uri": "https://localhost:8080/"
        },
        "outputId": "02d928e4-9b29-4c7b-983a-5ff5621819b8"
      },
      "source": [
        "# Cast value to float\n",
        "\n",
        "a = float(10)\n",
        "b = float(10.82)\n",
        "c = float('3.02')\n",
        "\n",
        "print(a, b, c)"
      ],
      "execution_count": 32,
      "outputs": [
        {
          "output_type": "stream",
          "name": "stdout",
          "text": [
            "10.0 10.82 3.02\n"
          ]
        }
      ]
    },
    {
      "cell_type": "code",
      "metadata": {
        "id": "XXpD7OI8LJkY",
        "outputId": "47546b90-f70d-4549-cc0f-6dc4be4d8c4b",
        "colab": {
          "base_uri": "https://localhost:8080/"
        }
      },
      "source": [
        "# Cast value to string\n",
        "\n",
        "a = str(10)\n",
        "b = str(10.82)\n",
        "c = str('3.02')\n",
        "d = \"ha\"\n",
        "\n",
        "print(a, b, c)\n",
        "print(c * 2)\n",
        "print(d * 3 , end= \" \")\n",
        "print(a + b)"
      ],
      "execution_count": 33,
      "outputs": [
        {
          "output_type": "stream",
          "name": "stdout",
          "text": [
            "10 10.82 3.02\n",
            "3.023.02\n",
            "hahaha 1010.82\n"
          ]
        }
      ]
    },
    {
      "cell_type": "markdown",
      "metadata": {
        "id": "vKKd1rcxLo0f"
      },
      "source": [
        "Why casting is important? Because you can't concatenate a string and a number. One of the ways to concatenate is to cast number value to string using **str()**."
      ]
    },
    {
      "cell_type": "code",
      "metadata": {
        "id": "8ZFqNoMgLQ-p",
        "colab": {
          "base_uri": "https://localhost:8080/",
          "height": 200
        },
        "outputId": "35dc4487-8d79-4afb-a4c1-df2849ff8f90"
      },
      "source": [
        "text = \"This year is \"\n",
        "year = 2020\n",
        "\n",
        "# TODO : fix the error\n",
        "print(text + year)  # this will throw an error. Try to cast year to string first"
      ],
      "execution_count": 34,
      "outputs": [
        {
          "output_type": "error",
          "ename": "TypeError",
          "evalue": "ignored",
          "traceback": [
            "\u001b[0;31m---------------------------------------------------------------------------\u001b[0m",
            "\u001b[0;31mTypeError\u001b[0m                                 Traceback (most recent call last)",
            "\u001b[0;32m<ipython-input-34-ba6bd9150681>\u001b[0m in \u001b[0;36m<module>\u001b[0;34m()\u001b[0m\n\u001b[1;32m      3\u001b[0m \u001b[0;34m\u001b[0m\u001b[0m\n\u001b[1;32m      4\u001b[0m \u001b[0;31m# TODO : fix the error\u001b[0m\u001b[0;34m\u001b[0m\u001b[0;34m\u001b[0m\u001b[0;34m\u001b[0m\u001b[0m\n\u001b[0;32m----> 5\u001b[0;31m \u001b[0mprint\u001b[0m\u001b[0;34m(\u001b[0m\u001b[0mtext\u001b[0m \u001b[0;34m+\u001b[0m \u001b[0myear\u001b[0m\u001b[0;34m)\u001b[0m  \u001b[0;31m# this will throw an error. Try to cast year to string first\u001b[0m\u001b[0;34m\u001b[0m\u001b[0;34m\u001b[0m\u001b[0m\n\u001b[0m",
            "\u001b[0;31mTypeError\u001b[0m: can only concatenate str (not \"int\") to str"
          ]
        }
      ]
    },
    {
      "cell_type": "markdown",
      "metadata": {
        "id": "FE4hgfJMOqHZ"
      },
      "source": [
        "## **String**\n",
        "\n",
        "String literals in python are surrounded by either single quotation marks, or double quotation marks.\n",
        "\n",
        "**'hello'** is the same as **\"hello\"**"
      ]
    },
    {
      "cell_type": "code",
      "metadata": {
        "id": "ZeJL_GykNYoy",
        "outputId": "c9822bbf-1b0f-4b19-d230-32a6aea52159",
        "colab": {
          "base_uri": "https://localhost:8080/"
        }
      },
      "source": [
        "print('hello' == \"hello\")  # will return True\n",
        "print(\"\"\"ajskdjfkjasdkjflaksjfk\n",
        "sdfjkasdfkf\n",
        "askfjasfkjkjgeijkjdafkja\n",
        "\"\"\")\n",
        "print('''kjasdkfjkasjdfk\n",
        "eeeeeeeeeeeeee\n",
        "rrerawef\n",
        "asdf''')"
      ],
      "execution_count": 35,
      "outputs": [
        {
          "output_type": "stream",
          "name": "stdout",
          "text": [
            "True\n",
            "ajskdjfkjasdkjflaksjfk\n",
            "sdfjkasdfkf\n",
            "askfjasfkjkjgeijkjdafkja\n",
            "\n",
            "kjasdkfjkasjdfk\n",
            "eeeeeeeeeeeeee\n",
            "rrerawef\n",
            "asdf\n"
          ]
        }
      ]
    },
    {
      "cell_type": "markdown",
      "metadata": {
        "id": "y9YYKY0YQuDO"
      },
      "source": [
        "For multiline string, you can use triple quotes \"\"\" ... \"\"\" or triple single quote ''' ... '''"
      ]
    },
    {
      "cell_type": "code",
      "metadata": {
        "id": "1uOV7L5iQoNL",
        "outputId": "71dc15e8-3751-4d47-9c2e-62f11231c45b",
        "colab": {
          "base_uri": "https://localhost:8080/"
        }
      },
      "source": [
        "text = \"\"\"Lorem ipsum dolor sit amet, \n",
        "consectetur adipiscing elit, \n",
        "sed do eiusmod tempor incididunt ut labore et dolore magna aliqua. \n",
        "Ut enim ad minim veniam, \n",
        "quis nostrud exercitation ullamco laboris nisi ut aliquip ex ea commodo consequat. \"\"\"\n",
        "\n",
        "print(text)"
      ],
      "execution_count": 36,
      "outputs": [
        {
          "output_type": "stream",
          "name": "stdout",
          "text": [
            "Lorem ipsum dolor sit amet, \n",
            "consectetur adipiscing elit, \n",
            "sed do eiusmod tempor incididunt ut labore et dolore magna aliqua. \n",
            "Ut enim ad minim veniam, \n",
            "quis nostrud exercitation ullamco laboris nisi ut aliquip ex ea commodo consequat. \n"
          ]
        }
      ]
    },
    {
      "cell_type": "markdown",
      "metadata": {
        "id": "Ih4v0na-RniZ"
      },
      "source": [
        "### **Strings are Arrays**\n",
        "Like many other popular programming languages, strings in Python are arrays of bytes representing unicode characters. However, Python does not have a character data type, a single character is simply a string with a length of 1. Square brackets can be used to access elements of the string."
      ]
    },
    {
      "cell_type": "code",
      "metadata": {
        "id": "r9khY4jXRTEq",
        "outputId": "e33d3de3-0e6a-49d1-9c47-8bc254a6679c",
        "colab": {
          "base_uri": "https://localhost:8080/"
        }
      },
      "source": [
        "text = \"Universitas Hasanuddin\"\n",
        "\n",
        "# Get a character in position 2\n",
        "print(text[len(text)-1]) #last character"
      ],
      "execution_count": 37,
      "outputs": [
        {
          "output_type": "stream",
          "name": "stdout",
          "text": [
            "n\n"
          ]
        }
      ]
    },
    {
      "cell_type": "markdown",
      "metadata": {
        "id": "XhaLMQHlT4Qg"
      },
      "source": [
        "### **Slicing**\n",
        "\n",
        "You can return a range of characters by using the slice syntax.\n",
        "\n",
        "Specify the start index and the end index, separated by a colon, to return a part of the string. Also, you can use negative indexes to start the slice from the end of the string."
      ]
    },
    {
      "cell_type": "code",
      "metadata": {
        "id": "4LC2Qi73SJF5",
        "outputId": "084b492b-2d13-4721-a7f8-9cfa15f5f6f6",
        "colab": {
          "base_uri": "https://localhost:8080/"
        }
      },
      "source": [
        "text = \"Universitas Hasanuddin\"\n",
        "\n",
        "print(text[:3])     # print text start from beginning to index 3(not include)\n",
        "print(text[4:15])   # print text start from index 4 to index 15(not include)\n",
        "print(text[:-2])    # print text start from beginning to index 1 from end (not include)\n",
        "print((text[len(text) - 3 : len(text)]))"
      ],
      "execution_count": 38,
      "outputs": [
        {
          "output_type": "stream",
          "name": "stdout",
          "text": [
            "Uni\n",
            "ersitas Has\n",
            "Universitas Hasanudd\n",
            "din\n"
          ]
        }
      ]
    },
    {
      "cell_type": "code",
      "metadata": {
        "id": "AOmEWdxoUbx9",
        "colab": {
          "base_uri": "https://localhost:8080/"
        },
        "outputId": "e274b470-8455-4db3-ae31-7c38f03a31f6"
      },
      "source": [
        "length = 123.123\n",
        "width = 4545.45\n",
        "area = length * width\n",
        "print(\"luasnya adalah = {}\".format(area))"
      ],
      "execution_count": 39,
      "outputs": [
        {
          "output_type": "stream",
          "name": "stdout",
          "text": [
            "luasnya adalah = 559649.44035\n"
          ]
        }
      ]
    },
    {
      "cell_type": "markdown",
      "metadata": {
        "id": "BbF_KGfzXYr9"
      },
      "source": [
        "### **String Concatenation**\n",
        "\n",
        "String concatenation in Python can be done these ways :\n",
        "- Using str() function\n",
        "- Using % operator\n",
        "- Using format() function\n",
        "- Using f-string"
      ]
    },
    {
      "cell_type": "code",
      "metadata": {
        "id": "vVgpBqQfV2g4",
        "colab": {
          "base_uri": "https://localhost:8080/"
        },
        "outputId": "d225c803-40b2-4dd7-e66e-1bfa32fbb1d1"
      },
      "source": [
        "date = 21\n",
        "month = 'February'\n",
        "\n",
        "print('Today is ' + month + ', ' + str(date) + 'st.')"
      ],
      "execution_count": 40,
      "outputs": [
        {
          "output_type": "stream",
          "name": "stdout",
          "text": [
            "Today is February, 21st.\n"
          ]
        }
      ]
    },
    {
      "cell_type": "code",
      "metadata": {
        "id": "AAHwpiDRMoUJ",
        "outputId": "471810cb-1674-4524-dd9f-4b9fa14b7ea8",
        "colab": {
          "base_uri": "https://localhost:8080/"
        }
      },
      "source": [
        "date = 22\n",
        "month = 'February'\n",
        "\n",
        "print('Today is %s, %dnd.' % (month, date))"
      ],
      "execution_count": 41,
      "outputs": [
        {
          "output_type": "stream",
          "name": "stdout",
          "text": [
            "Today is February, 22nd.\n"
          ]
        }
      ]
    },
    {
      "cell_type": "code",
      "metadata": {
        "id": "j8UYmNOKM1YT",
        "colab": {
          "base_uri": "https://localhost:8080/"
        },
        "outputId": "288fc315-b05e-4c25-d6af-419dfc73dbb7"
      },
      "source": [
        "date = 21\n",
        "month = 'February'\n",
        "\n",
        "print('Today is {}, {}st.'.format(month, date))\n",
        "\n",
        "print('Today is {1}, {0}st.'.format(date, month))"
      ],
      "execution_count": 42,
      "outputs": [
        {
          "output_type": "stream",
          "name": "stdout",
          "text": [
            "Today is February, 21st.\n",
            "Today is February, 21st.\n"
          ]
        }
      ]
    },
    {
      "cell_type": "code",
      "metadata": {
        "id": "dO_Ru7hwNHiM",
        "colab": {
          "base_uri": "https://localhost:8080/"
        },
        "outputId": "cf32dcfe-96d6-4d3b-80d8-aa40e2507c64"
      },
      "source": [
        "date = 21\n",
        "month = 'February'\n",
        "\n",
        "print(f'Today is {month}, {date}st.')"
      ],
      "execution_count": 43,
      "outputs": [
        {
          "output_type": "stream",
          "name": "stdout",
          "text": [
            "Today is February, 21st.\n"
          ]
        }
      ]
    },
    {
      "cell_type": "markdown",
      "metadata": {
        "id": "5thMIPYLN6UZ"
      },
      "source": [
        "### **String Method**\n",
        "\n",
        "Python has a set of built-in methods that you can use on strings. Reference : [String Method](https://www.w3schools.com/python/python_ref_string.asp)"
      ]
    },
    {
      "cell_type": "markdown",
      "metadata": {
        "id": "70-mASlaYc0B"
      },
      "source": [
        "## **Operators**\n",
        "\n",
        "Operators are used to perform operations on variables and values."
      ]
    },
    {
      "cell_type": "markdown",
      "metadata": {
        "id": "Wniw41dqjcaT"
      },
      "source": [
        "### **Python Arithmetic Operators**\n",
        "Arithmetic operators are used with numeric values to perform common mathematical operations.\n",
        "- \\+ : Addition\n",
        "- \\- : Subtraction\t\t\n",
        "- \\* : Multiplication\n",
        "- /\t : Division\n",
        "- %\t : Modulus\n",
        "- ** : Exponentiation\t\n",
        "- // : Floor division\t"
      ]
    },
    {
      "cell_type": "code",
      "metadata": {
        "id": "SOHpbYAVNfeY",
        "colab": {
          "base_uri": "https://localhost:8080/"
        },
        "outputId": "1d9e8957-e20f-45b9-e492-746080ed43ab"
      },
      "source": [
        "print(10 + 4)   # 14\n",
        "print(10 - 4)   # 6\n",
        "print(10 * 4)   # 40\n",
        "print(10 / 4)   # 2.5\n",
        "print(10 % 4)   # 2\n",
        "print(10 ** 4)  # 1000\n",
        "print(10 // 4)  # 2"
      ],
      "execution_count": 44,
      "outputs": [
        {
          "output_type": "stream",
          "name": "stdout",
          "text": [
            "14\n",
            "6\n",
            "40\n",
            "2.5\n",
            "2\n",
            "10000\n",
            "2\n"
          ]
        }
      ]
    },
    {
      "cell_type": "markdown",
      "metadata": {
        "id": "-IVFoqsfjkPD"
      },
      "source": [
        "### **Comparison Operators**\n",
        "\n",
        "Comparison operators are used to compare two values:\n",
        "- **==** : Equal\n",
        "- **!=** : Not equal\n",
        "- **>** : Greater than\n",
        "- **<** : Less than\n",
        "- **>=** : Greater than or equal to\n",
        "- **<=** : Less than or equal to"
      ]
    },
    {
      "cell_type": "markdown",
      "metadata": {
        "id": "2zP7-WxckNOR"
      },
      "source": [
        "### **Logical Operators**\n",
        "\n",
        "Logical operators are used to combine conditional statements:\n",
        "\n",
        "- **and** : Returns True if both statements are true\n",
        "- **or** : Returns True if one of the statements is true\n",
        "- **not** : Reverse the result, returns False if the result is true"
      ]
    },
    {
      "cell_type": "code",
      "metadata": {
        "id": "7SOkvdzeZ2G1",
        "outputId": "097afb45-3c4d-4aa1-f46a-1abe1043d00f",
        "colab": {
          "base_uri": "https://localhost:8080/"
        }
      },
      "source": [
        "print(10 > 5 and 'A' < 'a')     # True and True => True\n",
        "\n",
        "print(10 >= 10 or 10 > 10)      # True or False => True \n",
        "\n",
        "print(not('hello' == \"hello\"))  # not True => False"
      ],
      "execution_count": 45,
      "outputs": [
        {
          "output_type": "stream",
          "name": "stdout",
          "text": [
            "True\n",
            "True\n",
            "False\n"
          ]
        }
      ]
    },
    {
      "cell_type": "markdown",
      "metadata": {
        "id": "K9UBam5ElT_j"
      },
      "source": [
        "### **Identity Operators**\n",
        "\n",
        "Identity operators are used to compare the objects, not if they are equal, but if they are actually the same object, with the same memory location:\n",
        "\n",
        "- **is** : Returns true if both variables are the same object\n",
        "- **is not** : Returns true if both variables are not the same object"
      ]
    },
    {
      "cell_type": "code",
      "metadata": {
        "id": "wUSDfL-Rmk4v",
        "outputId": "59bd8259-7dee-444c-c405-5b1cf58e0ff0",
        "colab": {
          "base_uri": "https://localhost:8080/"
        }
      },
      "source": [
        "list1 = ['a', 'b', 'c']\n",
        "list2 = ['a', 'b', 'c']\n",
        "\n",
        "print(list1 == list2)   # True because the value is the same\n",
        "\n",
        "print(list1 is not list2)   # False because list1 and list2 have different memory location"
      ],
      "execution_count": 46,
      "outputs": [
        {
          "output_type": "stream",
          "name": "stdout",
          "text": [
            "True\n",
            "True\n"
          ]
        }
      ]
    },
    {
      "cell_type": "code",
      "metadata": {
        "id": "kzaq9N5Im9BR",
        "outputId": "a7b012d7-8fab-404d-8155-6d758c0e244f",
        "colab": {
          "base_uri": "https://localhost:8080/"
        }
      },
      "source": [
        "list1 = ['a', 'b', 'c']\n",
        "list2 = list1\n",
        "\n",
        "print(list1 is list2)"
      ],
      "execution_count": 47,
      "outputs": [
        {
          "output_type": "stream",
          "name": "stdout",
          "text": [
            "True\n"
          ]
        }
      ]
    },
    {
      "cell_type": "markdown",
      "metadata": {
        "id": "39piLsx_l9uS"
      },
      "source": [
        "### **Membership Operators**\n",
        "\n",
        "Membership operators are used to test if a sequence is presented in an object.\n",
        "- **in** : Returns True if a sequence with the specified value is present in the object\n",
        "- **not in** : Returns True if a sequence with the specified value is not present in the object"
      ]
    },
    {
      "cell_type": "code",
      "metadata": {
        "id": "6zfVqgQ1kwgG",
        "outputId": "89c31e97-fdfc-4aeb-8d48-4e520f7bca2a",
        "colab": {
          "base_uri": "https://localhost:8080/"
        }
      },
      "source": [
        "print('un' in 'Universitas Hasanuddin')     # True because ni exist in thet text\n",
        "print('un' in 'Universitas Hasanuddin'.lower())"
      ],
      "execution_count": 48,
      "outputs": [
        {
          "output_type": "stream",
          "name": "stdout",
          "text": [
            "False\n",
            "True\n"
          ]
        }
      ]
    },
    {
      "cell_type": "markdown",
      "metadata": {
        "id": "0zXRusP45P18"
      },
      "source": [
        "## **If - Else**"
      ]
    },
    {
      "cell_type": "markdown",
      "metadata": {
        "id": "TF3JoqHqhWy7"
      },
      "source": [
        "### **If Statement**\n",
        "\n",
        "An if statement is a programming conditional statement that, if proved true, performs a function or displays information.\n",
        "\n",
        "An \"if statement\" is written by using the **if** keyword."
      ]
    },
    {
      "cell_type": "code",
      "metadata": {
        "id": "2lYwI7hOmZVs",
        "outputId": "fdb27382-973e-4e0a-829b-15cf6b0c5e1f",
        "colab": {
          "base_uri": "https://localhost:8080/"
        }
      },
      "source": [
        "if ((40 > 20) and (3 < 5)) and (\"ini\" in \"bini\") :\n",
        "    print('40 is larger than 20! and \"bini\" contain \"ini\" ')"
      ],
      "execution_count": 49,
      "outputs": [
        {
          "output_type": "stream",
          "name": "stdout",
          "text": [
            "40 is larger than 20! and \"bini\" contain \"ini\" \n"
          ]
        }
      ]
    },
    {
      "cell_type": "markdown",
      "metadata": {
        "id": "f0O7E0il7U_Z"
      },
      "source": [
        "Things to remember is that if statement using indentation to define scope in the code while other programming language often use curly-brackets."
      ]
    },
    {
      "cell_type": "markdown",
      "metadata": {
        "id": "exN9N4X0hckG"
      },
      "source": [
        "### **Elif**\n",
        "\n",
        "The **elif** keyword is pythons way of saying \"if the previous conditions were not true, then try this condition\"."
      ]
    },
    {
      "cell_type": "code",
      "metadata": {
        "id": "gRPJpLra7SMc",
        "colab": {
          "base_uri": "https://localhost:8080/"
        },
        "outputId": "8576a3a5-3020-40c0-fa12-da0501f67258"
      },
      "source": [
        "num1 = 10\n",
        "num2 = 10\n",
        "\n",
        "if num1 > num2:\n",
        "    print(\"{} is greater than {}\".format(num1, num2))\n",
        "elif num1 == num2:\n",
        "    print(\"{} and {} are equal\".format(num1, num2))"
      ],
      "execution_count": 50,
      "outputs": [
        {
          "output_type": "stream",
          "name": "stdout",
          "text": [
            "10 and 10 are equal\n"
          ]
        }
      ]
    },
    {
      "cell_type": "markdown",
      "metadata": {
        "id": "Gqogg3pgj04X"
      },
      "source": [
        "### **Else**\n",
        "\n",
        "The **else** keyword catches anything which isn't caught by the preceding conditions."
      ]
    },
    {
      "cell_type": "code",
      "metadata": {
        "id": "KIPxLRF2jS4M",
        "colab": {
          "base_uri": "https://localhost:8080/"
        },
        "outputId": "2719fe99-16dd-42d9-afc1-3de3576be01b"
      },
      "source": [
        "num1 = 10\n",
        "num2 = 100\n",
        "\n",
        "if num1 > num2:\n",
        "    print(\"{} is greater than {}\".format(num1, num2))\n",
        "elif num1 == num2:\n",
        "    print(\"{} and {} are equal\".format(num1, num2))\n",
        "else:\n",
        "    print(\"{} is less than {}\".format(num1, num2))\n"
      ],
      "execution_count": 51,
      "outputs": [
        {
          "output_type": "stream",
          "name": "stdout",
          "text": [
            "10 is less than 100\n"
          ]
        }
      ]
    },
    {
      "cell_type": "markdown",
      "metadata": {
        "id": "pUyTqKddkgmv"
      },
      "source": [
        "### **Short Hand If**\n",
        "\n",
        "If you have only one statement to execute, you can put it on the same line as the if statement."
      ]
    },
    {
      "cell_type": "code",
      "metadata": {
        "id": "CKCSFVErkdIv",
        "colab": {
          "base_uri": "https://localhost:8080/"
        },
        "outputId": "790f549d-2ae1-4809-8a4f-b535888de44f"
      },
      "source": [
        "num1 = 100\n",
        "num2 = 10\n",
        "\n",
        "if num1 > num2: print(\"num1 is greater than num2\")"
      ],
      "execution_count": 52,
      "outputs": [
        {
          "output_type": "stream",
          "name": "stdout",
          "text": [
            "num1 is greater than num2\n"
          ]
        }
      ]
    },
    {
      "cell_type": "markdown",
      "metadata": {
        "id": "KAsTBQDfkvXS"
      },
      "source": [
        "### **Short Hand If - Else**\n",
        "\n",
        "If you have only one statement to execute, one for if, and one for else, you can put it all on the same line:"
      ]
    },
    {
      "cell_type": "code",
      "metadata": {
        "id": "MrEE3kpqksVx",
        "colab": {
          "base_uri": "https://localhost:8080/"
        },
        "outputId": "e070a7aa-dbd8-429f-faad-0716e4fa4f84"
      },
      "source": [
        "num1 = 10\n",
        "num2 = 100\n",
        "\n",
        "print(\"The bigger number is :\")\n",
        "print(\"num1\") if num1 > num2 else print(\"num2\")"
      ],
      "execution_count": 53,
      "outputs": [
        {
          "output_type": "stream",
          "name": "stdout",
          "text": [
            "The bigger number is :\n",
            "num2\n"
          ]
        }
      ]
    },
    {
      "cell_type": "markdown",
      "metadata": {
        "id": "8lu15YlDn3LM"
      },
      "source": [
        "### **Nested If**\n",
        "\n",
        "You can have if statements inside if statements, this is called nested if statements."
      ]
    },
    {
      "cell_type": "code",
      "metadata": {
        "id": "y7HvCTuAlFi6",
        "outputId": "8d60d212-a42d-4cd2-fc77-c67a0e7c0485",
        "colab": {
          "base_uri": "https://localhost:8080/"
        }
      },
      "source": [
        "num = 30\n",
        "\n",
        "if num > 10:\n",
        "  print(\"{} Above ten,\" .format(num))\n",
        "  if num > 20:\n",
        "    print(\"and also above 20!\")\n",
        "  else:\n",
        "    print(\"but not above 20.\")"
      ],
      "execution_count": 54,
      "outputs": [
        {
          "output_type": "stream",
          "name": "stdout",
          "text": [
            "30 Above ten,\n",
            "and also above 20!\n"
          ]
        }
      ]
    },
    {
      "cell_type": "markdown",
      "metadata": {
        "id": "THimM7EQoDhW"
      },
      "source": [
        "## **Looping**\n",
        "\n",
        "Python has two primitive loop commands:\n",
        "- **while** loops\n",
        "- **for** loops"
      ]
    },
    {
      "cell_type": "markdown",
      "metadata": {
        "id": "Wx28cRRIoXP3"
      },
      "source": [
        "### **While Loop**\n",
        "\n",
        "With the while loop we can execute a set of statements as long as a condition is true."
      ]
    },
    {
      "cell_type": "code",
      "metadata": {
        "id": "MnQPAMcyndYS",
        "colab": {
          "base_uri": "https://localhost:8080/"
        },
        "outputId": "a9660938-a6d9-4fb4-96d5-025f6bb35df3"
      },
      "source": [
        "# Print one to five\n",
        "i = 1\n",
        "while i <= 5:\n",
        "    print(i)\n",
        "    i += 1          # increment by one"
      ],
      "execution_count": 55,
      "outputs": [
        {
          "output_type": "stream",
          "name": "stdout",
          "text": [
            "1\n",
            "2\n",
            "3\n",
            "4\n",
            "5\n"
          ]
        }
      ]
    },
    {
      "cell_type": "code",
      "metadata": {
        "id": "UTWVypK9Dehz",
        "outputId": "300333e4-bc67-4eaa-d496-957bf16438e1",
        "colab": {
          "base_uri": "https://localhost:8080/"
        }
      },
      "source": [
        "\"\"\"\n",
        "TODO : Try to print a triangle like this :\n",
        "*\n",
        "**\n",
        "***\n",
        "****\n",
        "*****\n",
        "\"\"\"\n",
        "star = int(input())\n",
        "while star <= 13:\n",
        "    print(\"*\" * star )\n",
        "    star += 1\n"
      ],
      "execution_count": 56,
      "outputs": [
        {
          "output_type": "stream",
          "name": "stdout",
          "text": [
            "2\n",
            "**\n",
            "***\n",
            "****\n",
            "*****\n",
            "******\n",
            "*******\n",
            "********\n",
            "*********\n",
            "**********\n",
            "***********\n",
            "************\n",
            "*************\n"
          ]
        }
      ]
    },
    {
      "cell_type": "markdown",
      "metadata": {
        "id": "Svy08mGH-nkm"
      },
      "source": [
        "#### **Break Statement**\n",
        "\n",
        "With the **break** statement we can stop the loop even if the while condition is true."
      ]
    },
    {
      "cell_type": "code",
      "metadata": {
        "id": "Qb4YYmDEozN1",
        "colab": {
          "base_uri": "https://localhost:8080/"
        },
        "outputId": "8c196500-3a55-4593-abe8-6c15aa47f709"
      },
      "source": [
        "i = 1\n",
        "while i <= 5:\n",
        "    print(i)\n",
        "    if i == 4:\n",
        "        break\n",
        "    i += 1"
      ],
      "execution_count": 57,
      "outputs": [
        {
          "output_type": "stream",
          "name": "stdout",
          "text": [
            "1\n",
            "2\n",
            "3\n",
            "4\n"
          ]
        }
      ]
    },
    {
      "cell_type": "code",
      "metadata": {
        "id": "MsunMgv6_A2k",
        "colab": {
          "base_uri": "https://localhost:8080/"
        },
        "outputId": "dd9c3f9c-0c85-4ce1-95e5-2c9927514ba5"
      },
      "source": [
        "i = 1\n",
        "while i <= 5:\n",
        "    if i == 4:\n",
        "        break\n",
        "    print(i)\n",
        "    i += 1"
      ],
      "execution_count": 58,
      "outputs": [
        {
          "output_type": "stream",
          "name": "stdout",
          "text": [
            "1\n",
            "2\n",
            "3\n"
          ]
        }
      ]
    },
    {
      "cell_type": "markdown",
      "metadata": {
        "id": "OhzNQxx7_s78"
      },
      "source": [
        "#### **Continue Statement**\n",
        "\n",
        "With the **continue** statement we can stop the current iteration, and continue with the next. Remember to put increment before continue statement."
      ]
    },
    {
      "cell_type": "code",
      "metadata": {
        "id": "FJWOzgg6_GCu",
        "colab": {
          "base_uri": "https://localhost:8080/"
        },
        "outputId": "91a0b311-451f-4708-d5b4-1ded0677c1d1"
      },
      "source": [
        "i = 0\n",
        "while i < 5:\n",
        "    i += 1\n",
        "    if i == 4:\n",
        "        continue\n",
        "    print(i)"
      ],
      "execution_count": 59,
      "outputs": [
        {
          "output_type": "stream",
          "name": "stdout",
          "text": [
            "1\n",
            "2\n",
            "3\n",
            "5\n"
          ]
        }
      ]
    },
    {
      "cell_type": "markdown",
      "metadata": {
        "id": "ieGqGlasAj1l"
      },
      "source": [
        "### **For Loop**\n",
        "\n",
        "A **for** loop is used for iterating over a sequence (that is either a list, a tuple, a dictionary, a set, or a string).\n",
        "\n",
        "This is less like the for keyword in other programming languages, and works more like an iterator method as found in other object-orientated programming languages.\n",
        "\n",
        "With the for loop we can execute a set of statements, once for each item in a list, tuple, set etc."
      ]
    },
    {
      "cell_type": "code",
      "metadata": {
        "id": "nDiQ-ZjS_8mH",
        "outputId": "efa14f78-e7d3-468a-80a1-590dfec19fba",
        "colab": {
          "base_uri": "https://localhost:8080/"
        }
      },
      "source": [
        "for text in ['FMIPA', 'Universitas', 'Hasanuddin']:\n",
        "    print(text)"
      ],
      "execution_count": 60,
      "outputs": [
        {
          "output_type": "stream",
          "name": "stdout",
          "text": [
            "FMIPA\n",
            "Universitas\n",
            "Hasanuddin\n"
          ]
        }
      ]
    },
    {
      "cell_type": "markdown",
      "metadata": {
        "id": "kldMh05PBJSs"
      },
      "source": [
        "Even strings are iterable objects, they contain a sequence of characters."
      ]
    },
    {
      "cell_type": "code",
      "metadata": {
        "id": "cYmXO9kFA9AW",
        "colab": {
          "base_uri": "https://localhost:8080/"
        },
        "outputId": "3930b2bf-5d6f-40c9-838e-592b4a07a6f8"
      },
      "source": [
        "for char in 'Universitas':\n",
        "    print(char)"
      ],
      "execution_count": 61,
      "outputs": [
        {
          "output_type": "stream",
          "name": "stdout",
          "text": [
            "U\n",
            "n\n",
            "i\n",
            "v\n",
            "e\n",
            "r\n",
            "s\n",
            "i\n",
            "t\n",
            "a\n",
            "s\n"
          ]
        }
      ]
    },
    {
      "cell_type": "markdown",
      "metadata": {
        "id": "-Na-zXosBWK8"
      },
      "source": [
        "#### **range()**\n",
        "\n",
        "To loop through a set of code a specified number of times, we can use the range() function,\n",
        "The range() function returns a sequence of numbers, starting from 0 by default, and increments by 1 (by default), and ends at a specified number."
      ]
    },
    {
      "cell_type": "code",
      "metadata": {
        "id": "exJZDMkwBSge",
        "colab": {
          "base_uri": "https://localhost:8080/"
        },
        "outputId": "f9be47fb-a370-45a3-c0f4-9a4fbcc11178"
      },
      "source": [
        "range(10)"
      ],
      "execution_count": 62,
      "outputs": [
        {
          "output_type": "execute_result",
          "data": {
            "text/plain": [
              "range(0, 10)"
            ]
          },
          "metadata": {},
          "execution_count": 62
        }
      ]
    },
    {
      "cell_type": "code",
      "metadata": {
        "id": "CyqizwcABj07",
        "colab": {
          "base_uri": "https://localhost:8080/"
        },
        "outputId": "837456e2-3607-4358-cef7-6ebad06c2e63"
      },
      "source": [
        "for i in range(10):\n",
        "    print(i)"
      ],
      "execution_count": 63,
      "outputs": [
        {
          "output_type": "stream",
          "name": "stdout",
          "text": [
            "0\n",
            "1\n",
            "2\n",
            "3\n",
            "4\n",
            "5\n",
            "6\n",
            "7\n",
            "8\n",
            "9\n"
          ]
        }
      ]
    },
    {
      "cell_type": "markdown",
      "metadata": {
        "id": "xtTUumh8B8rF"
      },
      "source": [
        "You can pass up to 3 parameter to range() :\n",
        "- *start* : **Optional**. An integer number specifying at which position to start. Default is 0.\n",
        "- *stop* : **Required**. An integer number specifying at which position to end.\n",
        "- *step* : **Optional**. An integer number specifying the incrementation. Default is 1.\n",
        "\n",
        " range(5) => 0, 1, 2, 3, 4\n",
        "\n",
        " range(2, 5) => 2, 3, 4\n",
        "\n",
        " range(1, 8, 2) => 1, 3, 5, 7"
      ]
    },
    {
      "cell_type": "code",
      "metadata": {
        "id": "nOjf-z8lBsYj",
        "outputId": "d3a8f6d3-55d2-41e9-881f-35e8445f3dbb",
        "colab": {
          "base_uri": "https://localhost:8080/"
        }
      },
      "source": [
        "# TODO : Try to print 3, 7, 11, 15, 19, 23\n",
        "\n",
        "for i in range(3, 24, i+4):\n",
        "    print(i)\n",
        "\n"
      ],
      "execution_count": 64,
      "outputs": [
        {
          "output_type": "stream",
          "name": "stdout",
          "text": [
            "3\n",
            "16\n"
          ]
        }
      ]
    },
    {
      "cell_type": "markdown",
      "metadata": {
        "id": "MiNj8onZDyGS"
      },
      "source": [
        "#### **Nested Loop**\n",
        "\n",
        "A nested loop is a loop inside a loop.\n",
        "\n",
        "The \"inner loop\" will be executed one time for each iteration of the \"outer loop\""
      ]
    },
    {
      "cell_type": "code",
      "metadata": {
        "id": "cexe5r4_C6Bs",
        "colab": {
          "base_uri": "https://localhost:8080/"
        },
        "outputId": "ee4bd983-8d10-436d-a851-84e7961e524a"
      },
      "source": [
        "adjectives = [\"big\", \"tasty\"]\n",
        "fruits = [\"apple\", \"banana\", \"cherry\"]\n",
        "\n",
        "for adjective in adjectives:\n",
        "  for fruit in fruits:\n",
        "    print(adjective, fruit)"
      ],
      "execution_count": 65,
      "outputs": [
        {
          "output_type": "stream",
          "name": "stdout",
          "text": [
            "big apple\n",
            "big banana\n",
            "big cherry\n",
            "tasty apple\n",
            "tasty banana\n",
            "tasty cherry\n"
          ]
        }
      ]
    },
    {
      "cell_type": "markdown",
      "metadata": {
        "id": "t-8O5e81GaWX"
      },
      "source": [
        "## **Function**\n",
        "\n",
        "A function is a block of code which only runs when it is called. You can pass data, known as parameters, into a function. A function can return data as a result.\n",
        "\n",
        "In Python, a function is defined using **def** keyword. And to call a function, use the function name followed by parenthesis."
      ]
    },
    {
      "cell_type": "code",
      "metadata": {
        "id": "KFMsKRfnEFxW",
        "outputId": "6dd90721-7a45-437d-b876-fe61ba91d9f2",
        "colab": {
          "base_uri": "https://localhost:8080/"
        }
      },
      "source": [
        "def print_hello():\n",
        "    print(\"Hello\", end=\" \")\n",
        "\n",
        "def print_world():\n",
        "    print(\"World\")\n",
        "\n",
        "print_hello()\n",
        "print_world()"
      ],
      "execution_count": 66,
      "outputs": [
        {
          "output_type": "stream",
          "name": "stdout",
          "text": [
            "Hello World\n"
          ]
        }
      ]
    },
    {
      "cell_type": "markdown",
      "metadata": {
        "id": "uiEX367HHHZe"
      },
      "source": [
        "#### **Arguments**\n",
        "Information can be passed into functions as arguments.\n",
        "\n",
        "Arguments are specified after the function name, inside the parentheses. You can add as many arguments as you want, just separate them with a comma."
      ]
    },
    {
      "cell_type": "code",
      "metadata": {
        "id": "pcNt1n1tHEwT",
        "outputId": "8489cc8e-2308-48e4-f470-976fb24c26b5",
        "colab": {
          "base_uri": "https://localhost:8080/"
        }
      },
      "source": [
        "def print_hi(name):\n",
        "    print(\"Hi, \" + name)\n",
        "\n",
        "print_hi(\"Unhas\")"
      ],
      "execution_count": 67,
      "outputs": [
        {
          "output_type": "stream",
          "name": "stdout",
          "text": [
            "Hi, Unhas\n"
          ]
        }
      ]
    },
    {
      "cell_type": "markdown",
      "metadata": {
        "id": "YOPhEeMuHtEm"
      },
      "source": [
        "By default, a function must be called with the correct number of arguments. Meaning that if your function expects 2 arguments, you have to call the function with 2 arguments, not more, and not less."
      ]
    },
    {
      "cell_type": "code",
      "metadata": {
        "id": "xhtjk5YPHe0W",
        "outputId": "7405af77-c265-48ee-94bb-8072cb46eabd",
        "colab": {
          "base_uri": "https://localhost:8080/"
        }
      },
      "source": [
        "def print_hi(first_name, last_name):\n",
        "    print(\"Hi, \" + first_name + ' ' + last_name)\n",
        "\n",
        "print_hi('Kevin', 'Chandra')\n",
        "print_hi(last_name = \"kevin\", first_name = \"chandra\")"
      ],
      "execution_count": 68,
      "outputs": [
        {
          "output_type": "stream",
          "name": "stdout",
          "text": [
            "Hi, Kevin Chandra\n",
            "Hi, chandra kevin\n"
          ]
        }
      ]
    },
    {
      "cell_type": "markdown",
      "metadata": {
        "id": "RgldoIZ6I9KN"
      },
      "source": [
        "You can also send arguments with the key = value syntax.\n",
        "\n",
        "This way the order of the arguments does not matter."
      ]
    },
    {
      "cell_type": "code",
      "metadata": {
        "id": "FwUGIjAtI65X",
        "colab": {
          "base_uri": "https://localhost:8080/"
        },
        "outputId": "c04a4efd-f870-47a8-e186-144bba471f0a"
      },
      "source": [
        "def print_hi(first_name, last_name):\n",
        "    print(\"Hi, \" + first_name + ' ' + last_name)\n",
        "\n",
        "print_hi(last_name='Chandra', first_name='Kevin')"
      ],
      "execution_count": 69,
      "outputs": [
        {
          "output_type": "stream",
          "name": "stdout",
          "text": [
            "Hi, Kevin Chandra\n"
          ]
        }
      ]
    },
    {
      "cell_type": "markdown",
      "metadata": {
        "id": "2xV9TkC-IK4k"
      },
      "source": [
        "**Arbitrary Arguments** (*args)\n",
        "\n",
        "If you do not know how many arguments that will be passed into your function, add a **\\*** before the parameter name in the function definition.\n",
        "\n",
        "This way the function will receive a tuple of arguments, and can access the items accordingly"
      ]
    },
    {
      "cell_type": "code",
      "metadata": {
        "id": "JtXUs-_fIBMN",
        "outputId": "a10ac951-2976-48e1-e59f-17f0bca2d42e",
        "colab": {
          "base_uri": "https://localhost:8080/"
        }
      },
      "source": [
        "def kids_list(*kids):\n",
        "    print(\"The oldest child is \" + kids[0])\n",
        "\n",
        "kids_list('Bill', 'Jeff', 'Mark')"
      ],
      "execution_count": 70,
      "outputs": [
        {
          "output_type": "stream",
          "name": "stdout",
          "text": [
            "The oldest child is Bill\n"
          ]
        }
      ]
    },
    {
      "cell_type": "markdown",
      "metadata": {
        "id": "9xbNHSX0JUqw"
      },
      "source": [
        "**Arbitrary Keyword Arguments** (**kwargs)\n",
        "\n",
        "If you do not know how many keyword arguments that will be passed into your function, add two asterisk: ** before the parameter name in the function definition."
      ]
    },
    {
      "cell_type": "code",
      "metadata": {
        "id": "f11eSW3HI2Fe",
        "outputId": "ccb71892-a1d8-48cb-a67d-49231939aa7c",
        "colab": {
          "base_uri": "https://localhost:8080/"
        }
      },
      "source": [
        "def kids_list(**kids):\n",
        "  print(\"The oldest child is \" + kids[\"first\"])\n",
        "\n",
        "kids_list(first = \"Bill\", second = \"Jeff\", last = \"Mark\")"
      ],
      "execution_count": 71,
      "outputs": [
        {
          "output_type": "stream",
          "name": "stdout",
          "text": [
            "The oldest child is Bill\n"
          ]
        }
      ]
    },
    {
      "cell_type": "markdown",
      "metadata": {
        "id": "q6FB6h7NJ6fP"
      },
      "source": [
        "#### **Default Parameter Value**\n",
        "\n",
        "Default Parameter value is the value that you assigned to a parameter so that if you call the function without argument, it uses the default value."
      ]
    },
    {
      "cell_type": "code",
      "metadata": {
        "id": "QSjYD1FSJ0PA",
        "colab": {
          "base_uri": "https://localhost:8080/"
        },
        "outputId": "37ab5517-a7de-40b6-e4fd-06a9bb096c55"
      },
      "source": [
        "def print_lucky_num(num = 10):\n",
        "    print(\"My lucky number is \" + str(num))\n",
        "\n",
        "print_lucky_num(100)\n",
        "print_lucky_num()"
      ],
      "execution_count": 72,
      "outputs": [
        {
          "output_type": "stream",
          "name": "stdout",
          "text": [
            "My lucky number is 100\n",
            "My lucky number is 10\n"
          ]
        }
      ]
    },
    {
      "cell_type": "markdown",
      "metadata": {
        "id": "YnP0HHaHKieL"
      },
      "source": [
        "#### **Return Values**\n",
        "\n",
        "To let a function return a value, use the **return** statement."
      ]
    },
    {
      "cell_type": "code",
      "metadata": {
        "id": "GjQXeAT_Kftp",
        "outputId": "5a595b09-7c75-4b82-a094-f3850d570345",
        "colab": {
          "base_uri": "https://localhost:8080/"
        }
      },
      "source": [
        "def multiply_by_10(num):\n",
        "    return num * 10\n",
        "\n",
        "print(multiply_by_10(12))"
      ],
      "execution_count": 73,
      "outputs": [
        {
          "output_type": "stream",
          "name": "stdout",
          "text": [
            "120\n"
          ]
        }
      ]
    },
    {
      "cell_type": "markdown",
      "metadata": {
        "id": "ToyQjxt0K4en"
      },
      "source": [
        "#### **Recursion**\n",
        "\n",
        "Recursion is a common mathematical and programming concept. It means that a function calls itself. This has the benefit of meaning that you can loop through data to reach a result.\n",
        "\n",
        "The developer should be very careful with recursion as it can be quite easy to slip into writing a function which never terminates, or one that uses excess amounts of memory or processor power. However, when written correctly recursion can be a very efficient and mathematically-elegant approach to programming."
      ]
    },
    {
      "cell_type": "code",
      "metadata": {
        "id": "6XaIGhPJK0cb",
        "outputId": "35db30d0-a961-4915-8dc6-a56ab4a437e0",
        "colab": {
          "base_uri": "https://localhost:8080/"
        }
      },
      "source": [
        "def factorial(num):\n",
        "    if num < 0:\n",
        "        return \"Negative value don't have factorial\"\n",
        "    elif num == 0 or num == 1:\n",
        "        return 1\n",
        "    else:\n",
        "        return num * factorial(num-1) #recursion function that call it self\n",
        "\n",
        "print(factorial(-5))\n",
        "print(factorial(0))\n",
        "print(factorial(5))"
      ],
      "execution_count": 74,
      "outputs": [
        {
          "output_type": "stream",
          "name": "stdout",
          "text": [
            "Negative value don't have factorial\n",
            "1\n",
            "120\n"
          ]
        }
      ]
    },
    {
      "cell_type": "markdown",
      "metadata": {
        "id": "ABnztZ6_Cnwv"
      },
      "source": [
        "## **Data Structures in Python**\n",
        "\n",
        "There are four collection data types in the Python programming language:\n",
        "\n",
        "- **List** is a collection which is ordered and changeable. Allows duplicate members.\n",
        "- **Tuple** is a collection which is ordered and unchangeable. Allows duplicate members.\n",
        "- **Set** is a collection which is unordered and unindexed. No duplicate members.\n",
        "- **Dictionary** is a collection which is unordered, changeable and indexed. No duplicate members.\n",
        "\n",
        "When choosing a collection type, it is useful to understand the properties of that type. Choosing the right type for a particular data set could mean retention of meaning, and, it could mean an increase in efficiency or security.\n"
      ]
    },
    {
      "cell_type": "markdown",
      "metadata": {
        "id": "WhQ6RpRBDVi6"
      },
      "source": [
        "### **List**\n",
        "\n",
        "A list is a collection which is ordered and changeable. In Python lists are written with square brackets."
      ]
    },
    {
      "cell_type": "code",
      "metadata": {
        "id": "SDN-hN1OLp5W",
        "colab": {
          "base_uri": "https://localhost:8080/"
        },
        "outputId": "ee5018b2-36c8-4f1e-a168-88bcab92198c"
      },
      "source": [
        "list_ = ['Bill', 'Jeff', 'Mark']\n",
        "print(list_)"
      ],
      "execution_count": 75,
      "outputs": [
        {
          "output_type": "stream",
          "name": "stdout",
          "text": [
            "['Bill', 'Jeff', 'Mark']\n"
          ]
        }
      ]
    },
    {
      "cell_type": "markdown",
      "metadata": {
        "id": "gJFa1ayEG8LE"
      },
      "source": [
        "You access the list items by referring to the index number (index number start from 0). \n",
        "\n",
        "Negative indexing means beginning from the end, -1 refers to the last item, -2 refers to the second last item etc."
      ]
    },
    {
      "cell_type": "code",
      "metadata": {
        "id": "Ndtz9YORG3i8",
        "colab": {
          "base_uri": "https://localhost:8080/"
        },
        "outputId": "6ade8803-7dee-485e-d746-28da0548ca52"
      },
      "source": [
        "list_ = ['Bill', 'Jeff', 'Mark']\n",
        "\n",
        "print(list_[0])     # Bill\n",
        "print(list_[-2])    # Jeff"
      ],
      "execution_count": 76,
      "outputs": [
        {
          "output_type": "stream",
          "name": "stdout",
          "text": [
            "Bill\n",
            "Jeff\n"
          ]
        }
      ]
    },
    {
      "cell_type": "markdown",
      "metadata": {
        "id": "3uPXn-UjIWF7"
      },
      "source": [
        "Lists are **mutable** object which means you can modify a list object after it has been created. To change the value of a specific item, refer to the index number."
      ]
    },
    {
      "cell_type": "code",
      "metadata": {
        "id": "eVpsgfJ6Hasq",
        "outputId": "77b626f8-c8e2-42fd-bedf-9f61ccdcc0da",
        "colab": {
          "base_uri": "https://localhost:8080/"
        }
      },
      "source": [
        "list_ = ['Bill', 'Jeff', 'Mark']\n",
        "\n",
        "list_[2] = 'Elon'\n",
        "list2 = ['Bill', 'Jeff', 'Mark']\n",
        "\n",
        "print(list_ == list2)"
      ],
      "execution_count": 77,
      "outputs": [
        {
          "output_type": "stream",
          "name": "stdout",
          "text": [
            "False\n"
          ]
        }
      ]
    },
    {
      "cell_type": "markdown",
      "metadata": {
        "id": "hxt69aFrfha9"
      },
      "source": [
        "To determine how many items a list has, use the **len()** function"
      ]
    },
    {
      "cell_type": "code",
      "metadata": {
        "id": "_9xhsfDNfTln",
        "colab": {
          "base_uri": "https://localhost:8080/"
        },
        "outputId": "29fd30a1-85ff-4ced-a666-4ff306784dce"
      },
      "source": [
        "list_ = ['Bill', 'Jeff', 'Mark']\n",
        "print(len(list_))"
      ],
      "execution_count": 78,
      "outputs": [
        {
          "output_type": "stream",
          "name": "stdout",
          "text": [
            "3\n"
          ]
        }
      ]
    },
    {
      "cell_type": "markdown",
      "metadata": {
        "id": "2m2TKARSvToW"
      },
      "source": [
        "**Add Items**\n",
        "\n",
        "To add an item to the end of the list, use the **append()** method. And to add an item at the specified index, use the **insert()** method."
      ]
    },
    {
      "cell_type": "code",
      "metadata": {
        "id": "QQbVZPERvI1h",
        "colab": {
          "base_uri": "https://localhost:8080/"
        },
        "outputId": "1f574fe2-c725-411f-8046-32146bb249c3"
      },
      "source": [
        "list_ = ['Bill', 'Jeff', 'Mark']\n",
        "\n",
        "list_.append('Elon')\n",
        "print(list_)"
      ],
      "execution_count": 79,
      "outputs": [
        {
          "output_type": "stream",
          "name": "stdout",
          "text": [
            "['Bill', 'Jeff', 'Mark', 'Elon']\n"
          ]
        }
      ]
    },
    {
      "cell_type": "code",
      "metadata": {
        "id": "Vk5FDC__vlia",
        "outputId": "f88d5165-3c59-430d-b80b-9221115a7419",
        "colab": {
          "base_uri": "https://localhost:8080/"
        }
      },
      "source": [
        "list_ = ['Bill', 'Jeff', 'Mark']\n",
        "\n",
        "list_.insert(1, 'Elon')\n",
        "print(list_)"
      ],
      "execution_count": 80,
      "outputs": [
        {
          "output_type": "stream",
          "name": "stdout",
          "text": [
            "['Bill', 'Elon', 'Jeff', 'Mark']\n"
          ]
        }
      ]
    },
    {
      "cell_type": "markdown",
      "metadata": {
        "id": "6dWPg5x5_H8n"
      },
      "source": [
        "**Remove Item**\n",
        "\n",
        "There are several methods to remove items from a list.\n",
        "- remove() : remove specified item\n",
        "- pop() : remove the specified index (default : last item)\n",
        "- del : remove specified index\n",
        "- clear() : empty the list"
      ]
    },
    {
      "cell_type": "code",
      "metadata": {
        "id": "HP2qmO4jv5sg",
        "colab": {
          "base_uri": "https://localhost:8080/"
        },
        "outputId": "bb8e4160-85ee-4098-b7f2-eaf5cb6c8958"
      },
      "source": [
        "list_ = ['Bill', 'Jeff', 'Mark']\n",
        "\n",
        "list_.remove('Bill')\n",
        "print(list_)"
      ],
      "execution_count": 81,
      "outputs": [
        {
          "output_type": "stream",
          "name": "stdout",
          "text": [
            "['Jeff', 'Mark']\n"
          ]
        }
      ]
    },
    {
      "cell_type": "code",
      "metadata": {
        "id": "RF7b2ZJz_j4-",
        "outputId": "c0b79cf4-081b-4bc8-b42d-6ecf8432f725",
        "colab": {
          "base_uri": "https://localhost:8080/"
        }
      },
      "source": [
        "list_ = ['Bill', 'Jeff', 'Mark']\n",
        "\n",
        "list_.pop(1)\n",
        "print(list_)"
      ],
      "execution_count": 82,
      "outputs": [
        {
          "output_type": "stream",
          "name": "stdout",
          "text": [
            "['Bill', 'Mark']\n"
          ]
        }
      ]
    },
    {
      "cell_type": "code",
      "metadata": {
        "id": "1TFDyMyc_nzh",
        "colab": {
          "base_uri": "https://localhost:8080/"
        },
        "outputId": "e5fd6757-2e1a-4d61-c07b-c1d4d513bce3"
      },
      "source": [
        "list_ = ['Bill', 'Jeff', 'Mark']\n",
        "\n",
        "list_.pop()\n",
        "print(list_)"
      ],
      "execution_count": 83,
      "outputs": [
        {
          "output_type": "stream",
          "name": "stdout",
          "text": [
            "['Bill', 'Jeff']\n"
          ]
        }
      ]
    },
    {
      "cell_type": "code",
      "metadata": {
        "id": "hFsL4btV_qou",
        "colab": {
          "base_uri": "https://localhost:8080/"
        },
        "outputId": "a3f7179c-b31b-4c2c-f287-cddc493d7ec3"
      },
      "source": [
        "list_ = ['Bill', 'Jeff', 'Mark']\n",
        "\n",
        "del list_[0]\n",
        "print(list_)"
      ],
      "execution_count": 84,
      "outputs": [
        {
          "output_type": "stream",
          "name": "stdout",
          "text": [
            "['Jeff', 'Mark']\n"
          ]
        }
      ]
    },
    {
      "cell_type": "code",
      "metadata": {
        "id": "aSdLaPmR_-kp",
        "colab": {
          "base_uri": "https://localhost:8080/"
        },
        "outputId": "6d0a0401-1f28-4f13-aa2f-7e79ab8d28a5"
      },
      "source": [
        "list_ = ['Bill', 'Jeff', 'Mark']\n",
        "\n",
        "list_.clear()\n",
        "print(list_)"
      ],
      "execution_count": 85,
      "outputs": [
        {
          "output_type": "stream",
          "name": "stdout",
          "text": [
            "[]\n"
          ]
        }
      ]
    },
    {
      "cell_type": "markdown",
      "metadata": {
        "id": "vw5_w5kWDt8f"
      },
      "source": [
        "### **Tuple**\n",
        "\n",
        "A tuple is a sequence of **immutable** Python objects. Tuples are sequences, just like lists. The differences between tuples and lists are, the tuples cannot be changed unlike lists and tuples use parentheses, whereas lists use square brackets."
      ]
    },
    {
      "cell_type": "code",
      "metadata": {
        "id": "jaGgB41HABKl",
        "outputId": "4fbfdafa-d285-4e90-f6d6-9143d166271a",
        "colab": {
          "base_uri": "https://localhost:8080/"
        }
      },
      "source": [
        "tuple_ = ('Bill', 'Jeff', 'Mark')\n",
        "print(tuple_)"
      ],
      "execution_count": 86,
      "outputs": [
        {
          "output_type": "stream",
          "name": "stdout",
          "text": [
            "('Bill', 'Jeff', 'Mark')\n"
          ]
        }
      ]
    },
    {
      "cell_type": "markdown",
      "metadata": {
        "id": "7zbcWa3IFMpO"
      },
      "source": [
        "You access the tuple items by referring to the index number (index number start from 0)."
      ]
    },
    {
      "cell_type": "code",
      "metadata": {
        "id": "57Aetvr1FBS4",
        "outputId": "832cb568-5e31-48d7-bcc7-eec5bd010d46",
        "colab": {
          "base_uri": "https://localhost:8080/"
        }
      },
      "source": [
        "print(tuple_[2])"
      ],
      "execution_count": 87,
      "outputs": [
        {
          "output_type": "stream",
          "name": "stdout",
          "text": [
            "Mark\n"
          ]
        }
      ]
    },
    {
      "cell_type": "code",
      "metadata": {
        "id": "1DAeajFmFW6C",
        "outputId": "f3c38994-797f-4cb9-c6eb-0d2ade44d661",
        "colab": {
          "base_uri": "https://localhost:8080/"
        }
      },
      "source": [
        "print(tuple_[:-1])"
      ],
      "execution_count": 88,
      "outputs": [
        {
          "output_type": "stream",
          "name": "stdout",
          "text": [
            "('Bill', 'Jeff')\n"
          ]
        }
      ]
    },
    {
      "cell_type": "markdown",
      "metadata": {
        "id": "el9Rg_G0Frya"
      },
      "source": [
        "Tuples are **immutable** which means you cannot update or change the values of tuple elements."
      ]
    },
    {
      "cell_type": "code",
      "metadata": {
        "id": "REupA17jFbFR"
      },
      "source": [
        "# Following action is not valid for tuples\n",
        "# tuple_[0] = 'Elon'"
      ],
      "execution_count": 89,
      "outputs": []
    },
    {
      "cell_type": "markdown",
      "metadata": {
        "id": "v-aCpuEhF8qM"
      },
      "source": [
        "Removing individual tuple elements is not possible.\n",
        "\n",
        "To explicitly remove an entire tuple, just use the del statement."
      ]
    },
    {
      "cell_type": "code",
      "metadata": {
        "id": "AHhZcO3FF2Lz",
        "colab": {
          "base_uri": "https://localhost:8080/",
          "height": 217
        },
        "outputId": "52ea418e-f3ad-40b9-d9c8-406423b7a6a5"
      },
      "source": [
        "tuple_ = ('Bill', 'Jeff', 'Mark')\n",
        "print(tuple_)\n",
        "\n",
        "del tuple_\n",
        "print(tuple_)       # This will cause an error because tuple_ is no longer exist"
      ],
      "execution_count": 91,
      "outputs": [
        {
          "output_type": "stream",
          "name": "stdout",
          "text": [
            "('Bill', 'Jeff', 'Mark')\n"
          ]
        },
        {
          "output_type": "error",
          "ename": "NameError",
          "evalue": "ignored",
          "traceback": [
            "\u001b[0;31m---------------------------------------------------------------------------\u001b[0m",
            "\u001b[0;31mNameError\u001b[0m                                 Traceback (most recent call last)",
            "\u001b[0;32m<ipython-input-91-63aa1acda097>\u001b[0m in \u001b[0;36m<module>\u001b[0;34m()\u001b[0m\n\u001b[1;32m      3\u001b[0m \u001b[0;34m\u001b[0m\u001b[0m\n\u001b[1;32m      4\u001b[0m \u001b[0;32mdel\u001b[0m \u001b[0mtuple_\u001b[0m\u001b[0;34m\u001b[0m\u001b[0;34m\u001b[0m\u001b[0m\n\u001b[0;32m----> 5\u001b[0;31m \u001b[0mprint\u001b[0m\u001b[0;34m(\u001b[0m\u001b[0mtuple_\u001b[0m\u001b[0;34m)\u001b[0m       \u001b[0;31m# This will cause an error because tuple_ is no longer exist\u001b[0m\u001b[0;34m\u001b[0m\u001b[0;34m\u001b[0m\u001b[0m\n\u001b[0m",
            "\u001b[0;31mNameError\u001b[0m: name 'tuple_' is not defined"
          ]
        }
      ]
    },
    {
      "cell_type": "markdown",
      "metadata": {
        "id": "_QrpywTNGps7"
      },
      "source": [
        "### **Dictionary**\n",
        "\n",
        "A dictionary is a collection which is unordered, changeable and indexed. In Python dictionaries are written with curly brackets, and they have keys and values. Each key is separated from its value by a colon (:), the items are separated by commas."
      ]
    },
    {
      "cell_type": "code",
      "metadata": {
        "id": "e_yy6H6bGLon",
        "colab": {
          "base_uri": "https://localhost:8080/"
        },
        "outputId": "011251aa-4f6a-4e22-9680-f8a0b20bbd3d"
      },
      "source": [
        "dict_ = {'Name' : 'Bill', 'Age' : 20, 'Address' : 'Poros Malino'}\n",
        "print(dict_)"
      ],
      "execution_count": 92,
      "outputs": [
        {
          "output_type": "stream",
          "name": "stdout",
          "text": [
            "{'Name': 'Bill', 'Age': 20, 'Address': 'Poros Malino'}\n"
          ]
        }
      ]
    },
    {
      "cell_type": "markdown",
      "metadata": {
        "id": "BMY5Zx4CJ5D-"
      },
      "source": [
        "To access dictionary elements, you can use the square brackets along with the key to obtain its value."
      ]
    },
    {
      "cell_type": "code",
      "metadata": {
        "id": "Ay3bt7IPJxry",
        "colab": {
          "base_uri": "https://localhost:8080/"
        },
        "outputId": "e2a49a1c-21af-4cfe-8696-4c5c30de2669"
      },
      "source": [
        "print(dict_['Address'])"
      ],
      "execution_count": 93,
      "outputs": [
        {
          "output_type": "stream",
          "name": "stdout",
          "text": [
            "Poros Malino\n"
          ]
        }
      ]
    },
    {
      "cell_type": "markdown",
      "metadata": {
        "id": "1Sd9QhFWVDbi"
      },
      "source": [
        "You can change the value of a specific item by referring to its key name."
      ]
    },
    {
      "cell_type": "code",
      "metadata": {
        "id": "vL9R0Zp5KPap",
        "colab": {
          "base_uri": "https://localhost:8080/"
        },
        "outputId": "04d9a1e6-dec3-4f56-ab73-0c3a135ff0a1"
      },
      "source": [
        "dict_['Name'] = 'Jeff'\n",
        "print(dict_)"
      ],
      "execution_count": 94,
      "outputs": [
        {
          "output_type": "stream",
          "name": "stdout",
          "text": [
            "{'Name': 'Jeff', 'Age': 20, 'Address': 'Poros Malino'}\n"
          ]
        }
      ]
    },
    {
      "cell_type": "markdown",
      "metadata": {
        "id": "z5Wsi23tXhZB"
      },
      "source": [
        "**Loop Through a Dictionary**\n",
        "\n",
        "You can loop through a dictionary by using a for loop.\n",
        "\n",
        "When looping through a dictionary, the return value are the keys of the dictionary, but there are methods to return the values as well."
      ]
    },
    {
      "cell_type": "code",
      "metadata": {
        "id": "Iwfv4mOJVKx6",
        "colab": {
          "base_uri": "https://localhost:8080/"
        },
        "outputId": "0ddd3d82-7950-4142-c4fb-41c4f5481d69"
      },
      "source": [
        "for key in dict_:\n",
        "    print(key)"
      ],
      "execution_count": 95,
      "outputs": [
        {
          "output_type": "stream",
          "name": "stdout",
          "text": [
            "Name\n",
            "Age\n",
            "Address\n"
          ]
        }
      ]
    },
    {
      "cell_type": "code",
      "metadata": {
        "id": "6EpCYdhtX3QW",
        "colab": {
          "base_uri": "https://localhost:8080/"
        },
        "outputId": "faa3cebe-a203-416f-d3f0-4ac2767c1c17"
      },
      "source": [
        "# To print value from dictionary :\n",
        "for key in dict_:\n",
        "    print(dict_[key])"
      ],
      "execution_count": 96,
      "outputs": [
        {
          "output_type": "stream",
          "name": "stdout",
          "text": [
            "Jeff\n",
            "20\n",
            "Poros Malino\n"
          ]
        }
      ]
    },
    {
      "cell_type": "code",
      "metadata": {
        "id": "kZGgopwTYA5n",
        "colab": {
          "base_uri": "https://localhost:8080/"
        },
        "outputId": "de22e51c-fdbe-4eea-fa2a-b455eda805bf"
      },
      "source": [
        "# Or use values() function\n",
        "for value in dict_.values():\n",
        "    print(value)"
      ],
      "execution_count": 97,
      "outputs": [
        {
          "output_type": "stream",
          "name": "stdout",
          "text": [
            "Jeff\n",
            "20\n",
            "Poros Malino\n"
          ]
        }
      ]
    },
    {
      "cell_type": "code",
      "metadata": {
        "id": "VA3n9mOdYNrP",
        "colab": {
          "base_uri": "https://localhost:8080/"
        },
        "outputId": "de133737-6cc3-4093-a3bc-3759d38c5cf3"
      },
      "source": [
        "# Loop through both keys and values using items()\n",
        "for key, value in dict_.items():\n",
        "    print(key, value)"
      ],
      "execution_count": 98,
      "outputs": [
        {
          "output_type": "stream",
          "name": "stdout",
          "text": [
            "Name Jeff\n",
            "Age 20\n",
            "Address Poros Malino\n"
          ]
        }
      ]
    },
    {
      "cell_type": "markdown",
      "metadata": {
        "id": "024AqBrGYkkj"
      },
      "source": [
        "**Adding Items**\n",
        "\n",
        "Adding an item to the dictionary is done by using a new index key and assigning a value to it"
      ]
    },
    {
      "cell_type": "code",
      "metadata": {
        "id": "W6vqr6PBYb9J",
        "colab": {
          "base_uri": "https://localhost:8080/"
        },
        "outputId": "8d1858ad-62a4-4aad-a939-e75a6f7ecae7"
      },
      "source": [
        "print(dict_)\n",
        "\n",
        "dict_['year_of_birth'] = 2000\n",
        "print(dict_)"
      ],
      "execution_count": 99,
      "outputs": [
        {
          "output_type": "stream",
          "name": "stdout",
          "text": [
            "{'Name': 'Jeff', 'Age': 20, 'Address': 'Poros Malino'}\n",
            "{'Name': 'Jeff', 'Age': 20, 'Address': 'Poros Malino', 'year_of_birth': 2000}\n"
          ]
        }
      ]
    },
    {
      "cell_type": "markdown",
      "metadata": {
        "id": "OT3UedxEbThy"
      },
      "source": [
        "**Removing Items**\n",
        "\n",
        "There are several methods to remove items from a dictionary.\n",
        "\n",
        "The **pop()** method removes the item with the specified key name"
      ]
    },
    {
      "cell_type": "code",
      "metadata": {
        "id": "ktNEWMGZY4-7",
        "colab": {
          "base_uri": "https://localhost:8080/"
        },
        "outputId": "f627dbb0-9c47-4142-a4f7-d924f16352a4"
      },
      "source": [
        "dict_={\n",
        "    'Name' : 'Bill', \n",
        "    'Age' : 20, \n",
        "    'Address' : 'Poros Malino',\n",
        "    'year_of_birth' : 2000\n",
        "}\n",
        "\n",
        "dict_.pop('Age')\n",
        "print(dict_)"
      ],
      "execution_count": 100,
      "outputs": [
        {
          "output_type": "stream",
          "name": "stdout",
          "text": [
            "{'Name': 'Bill', 'Address': 'Poros Malino', 'year_of_birth': 2000}\n"
          ]
        }
      ]
    },
    {
      "cell_type": "markdown",
      "metadata": {
        "id": "R8sF0LfJb5SJ"
      },
      "source": [
        "The **popitem()** method removes the last inserted item."
      ]
    },
    {
      "cell_type": "code",
      "metadata": {
        "id": "r48l7i7ebzdo",
        "colab": {
          "base_uri": "https://localhost:8080/"
        },
        "outputId": "c4c28ad5-ea92-4a89-c487-2fc68a021ef7"
      },
      "source": [
        "dict_={\n",
        "    'Name' : 'Bill', \n",
        "    'Age' : 20, \n",
        "    'Address' : 'Poros Malino',\n",
        "    'year_of_birth' : 2000\n",
        "}\n",
        "\n",
        "dict_.popitem()\n",
        "print(dict_)"
      ],
      "execution_count": 101,
      "outputs": [
        {
          "output_type": "stream",
          "name": "stdout",
          "text": [
            "{'Name': 'Bill', 'Age': 20, 'Address': 'Poros Malino'}\n"
          ]
        }
      ]
    },
    {
      "cell_type": "markdown",
      "metadata": {
        "id": "wQT8XeLAcZcs"
      },
      "source": [
        "The **del** keyword removes the item with the specified key name. The **del** keyword can also delete the dictionary completely."
      ]
    },
    {
      "cell_type": "code",
      "metadata": {
        "id": "Nb1vQm2LcKnb",
        "colab": {
          "base_uri": "https://localhost:8080/"
        },
        "outputId": "60bd8a35-7c69-4976-f769-1f4679688675"
      },
      "source": [
        "dict_={\n",
        "    'Name' : 'Bill', \n",
        "    'Age' : 20, \n",
        "    'Address' : 'Poros Malino',\n",
        "    'year_of_birth' : 2000\n",
        "}\n",
        "\n",
        "del dict_['Address']\n",
        "print(dict_)"
      ],
      "execution_count": 102,
      "outputs": [
        {
          "output_type": "stream",
          "name": "stdout",
          "text": [
            "{'Name': 'Bill', 'Age': 20, 'year_of_birth': 2000}\n"
          ]
        }
      ]
    },
    {
      "cell_type": "markdown",
      "metadata": {
        "id": "qSxhtqp7cqDP"
      },
      "source": [
        "The **clear()** keyword empties the dictionary."
      ]
    },
    {
      "cell_type": "code",
      "metadata": {
        "id": "lWzBprafcg4s",
        "colab": {
          "base_uri": "https://localhost:8080/"
        },
        "outputId": "3f6120fb-34d6-4b6d-a8d7-24f7621cccac"
      },
      "source": [
        "dict_={\n",
        "    'Name' : 'Bill', \n",
        "    'Age' : 20, \n",
        "    'Address' : 'Poros Malino',\n",
        "    'year_of_birth' : 2000\n",
        "}\n",
        "\n",
        "dict_.clear()\n",
        "print(dict_)"
      ],
      "execution_count": 103,
      "outputs": [
        {
          "output_type": "stream",
          "name": "stdout",
          "text": [
            "{}\n"
          ]
        }
      ]
    }
  ]
}